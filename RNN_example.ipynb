{
 "cells": [
  {
   "cell_type": "code",
   "execution_count": 95,
   "metadata": {
    "scrolled": true
   },
   "outputs": [
    {
     "name": "stdout",
     "output_type": "stream",
     "text": [
      "0 20.29178738594055\n",
      "10 18.157113194465637\n",
      "20 17.455609679222107\n",
      "30 16.499610781669617\n",
      "40 15.60313868522644\n",
      "50 15.89236831665039\n",
      "60 14.15184736251831\n",
      "70 12.326170325279236\n",
      "80 10.348144292831421\n",
      "90 9.535945057868958\n"
     ]
    }
   ],
   "source": [
    "from __future__ import unicode_literals, print_function, division\n",
    "from io import open\n",
    "import unicodedata\n",
    "import string\n",
    "import re\n",
    "import random\n",
    "\n",
    "import torch\n",
    "import torch.nn as nn\n",
    "from torch import optim\n",
    "import torch.nn.functional as F\n",
    "\n",
    "device = torch.device(\"cuda\" if torch.cuda.is_available() else \"cpu\")\n",
    "\n",
    "class EncoderRNN(nn.Module):\n",
    "    def __init__(self, input_size, hidden_size):\n",
    "        super(EncoderRNN, self).__init__()\n",
    "        self.hidden_size = hidden_size\n",
    "        self.embedding = nn.Embedding(input_size, hidden_size)\n",
    "        self.gru = nn.GRU(hidden_size, hidden_size)\n",
    "        self.out = nn.Linear(hidden_size, input_size)\n",
    "        self.softmax = nn.LogSoftmax(dim=1)\n",
    "        \n",
    "\n",
    "    def forward(self, input, hidden):\n",
    "        embedded = self.embedding(input).view(1, 1, -1)\n",
    "        output, hidden = self.gru(embedded, hidden)\n",
    "        output = self.out(output[0]) \n",
    "        output = self.softmax(output)\n",
    "        return output, hidden\n",
    "\n",
    "    def initHidden(self):\n",
    "        return torch.zeros(1, 1, self.hidden_size, device=device)\n",
    "    \n",
    "def oneHot(idx):\n",
    "    x = torch.zeros(10).float()\n",
    "    x[idx] = 1.0\n",
    "    return x\n",
    "\n",
    "# input_data = list(zip(range(0,8),range(1,9)))+[[8,9],[9,0]]\n",
    "# output_data = list(range(2,10))+[0,1]\n",
    "\n",
    "input_data = list(zip(range(0,8),range(1,9)))\n",
    "output_data = list(range(2,10))\n",
    "pairs= list(zip(input_data,output_data))\n",
    "\n",
    "def tensorsFromPair(pair):\n",
    "    input_tensor = torch.tensor(pair[0], dtype=torch.long, device=device).view(-1, 1)\n",
    "    target_tensor = torch.tensor(pair[1], dtype=torch.long, device=device).view(-1, 1)\n",
    "    return (input_tensor, target_tensor)\n",
    "\n",
    "input_size, hidden_size = 10, 2\n",
    "n_iters = 1\n",
    "encoder = EncoderRNN(input_size, hidden_size).to(device)\n",
    "learning_rate = 0.05\n",
    "\n",
    "encoder_optimizer = optim.SGD(encoder.parameters(), lr=learning_rate)\n",
    "encoder_hidden = encoder.initHidden()\n",
    "criterion = nn.NLLLoss()\n",
    "\n",
    "A=[]\n",
    "for epoch in range(100):\n",
    "    training_pairs = [tensorsFromPair(pair) for pair in pairs]\n",
    "    a=0\n",
    "    for _ in range(len(training_pairs)):\n",
    "        i = random.choice(range(8))\n",
    "        loss = 0\n",
    "        training_pair = training_pairs[i]\n",
    "        input_tensor = training_pair[0]\n",
    "        target_tensor = training_pair[1]\n",
    "\n",
    "        encoder_optimizer.zero_grad()\n",
    "\n",
    "        input_length = input_tensor.size(0)\n",
    "        target_length = target_tensor.size(0)\n",
    "\n",
    "        for ei in range(2):\n",
    "            encoder_output, encoder_hidden = encoder(input_tensor[ei], encoder_hidden)\n",
    "        loss += criterion(encoder_output, target_tensor[0])\n",
    "\n",
    "        loss.backward(retain_graph=True)\n",
    "        encoder_optimizer.step()\n",
    "        a+=loss.item()\n",
    "    A.append(a/n_iters)\n",
    "    if epoch%10==0:\n",
    "        print(epoch,a/n_iters)\n",
    "    \n",
    "    \n"
   ]
  },
  {
   "cell_type": "code",
   "execution_count": 93,
   "metadata": {},
   "outputs": [
    {
     "name": "stdout",
     "output_type": "stream",
     "text": [
      "0 1.975058126449585\n",
      "10 1.9347392082214356\n",
      "20 1.903801727294922\n",
      "30 1.8754781246185304\n",
      "40 1.8493281364440919\n",
      "50 1.8249556064605712\n",
      "60 1.8019652843475342\n",
      "70 1.779932165145874\n",
      "80 1.7583593845367431\n",
      "90 1.7366591453552247\n"
     ]
    }
   ],
   "source": [
    "for epoch in range(100):\n",
    "    training_pairs = [tensorsFromPair(pair) for pair in pairs]\n",
    "    a=0\n",
    "    for _ in range(len(training_pairs)):\n",
    "        i = random.choice(range(8))\n",
    "        loss = 0\n",
    "        training_pair = training_pairs[i]\n",
    "        input_tensor = training_pair[0]\n",
    "        target_tensor = training_pair[1]\n",
    "\n",
    "        encoder_optimizer.zero_grad()\n",
    "\n",
    "        input_length = input_tensor.size(0)\n",
    "        target_length = target_tensor.size(0)\n",
    "\n",
    "        for ei in range(2):\n",
    "            encoder_output, encoder_hidden = encoder(input_tensor[ei], encoder_hidden)\n",
    "        loss += criterion(encoder_output, target_tensor[0])\n",
    "\n",
    "        loss.backward(retain_graph=True)\n",
    "        encoder_optimizer.step()\n",
    "        a+=loss.item()\n",
    "    A.append(a/n_iters)\n",
    "    if epoch%10==0:\n",
    "        print(epoch,a/n_iters)\n",
    "    "
   ]
  },
  {
   "cell_type": "code",
   "execution_count": 96,
   "metadata": {},
   "outputs": [
    {
     "data": {
      "image/png": "[encoded data removed]",
      "text/plain": [
       "<Figure size 432x288 with 1 Axes>"
      ]
     },
     "metadata": {},
     "output_type": "display_data"
    }
   ],
   "source": [
    "import matplotlib.pyplot as plt\n",
    "plt.plot(A)\n",
    "plt.show()"
   ]
  },
  {
   "cell_type": "code",
   "execution_count": 97,
   "metadata": {},
   "outputs": [
    {
     "data": {
      "image/png": "[encoded data removed]",
      "text/plain": [
       "<Figure size 432x288 with 1 Axes>"
      ]
     },
     "metadata": {},
     "output_type": "display_data"
    }
   ],
   "source": [
    "W1 = encoder.embedding.weight.data.numpy()\n",
    "x, y = W1[:,0],W1[:,1]\n",
    "plt.plot(x,y,'ro-')\n",
    "for  i in range(10):\n",
    "    plt.text(x[i],y[i],str(i))\n",
    "\n",
    "\n",
    "W2 = encoder.out.weight.data.numpy().T\n",
    "x, y = W2[0,:],W2[1,:]\n",
    "plt.plot(x,y,'bo-')\n",
    "for  i in range(10):\n",
    "    plt.text(x[i],y[i],str(i))\n",
    "#plt.savefig('dafengche.png')\n"
   ]
  },
  {
   "cell_type": "code",
   "execution_count": 98,
   "metadata": {},
   "outputs": [
    {
     "name": "stdout",
     "output_type": "stream",
     "text": [
      "[[0], [1]]\n",
      "pred: 2 true: 2\n",
      "[[1], [2]]\n",
      "pred: 3 true: 3\n",
      "[[2], [3]]\n",
      "pred: 4 true: 4\n",
      "[[3], [4]]\n",
      "pred: 5 true: 5\n",
      "[[4], [5]]\n",
      "pred: 9 true: 6\n",
      "[[5], [6]]\n",
      "pred: 8 true: 7\n",
      "[[6], [7]]\n",
      "pred: 8 true: 8\n",
      "[[7], [8]]\n",
      "pred: 9 true: 9\n"
     ]
    }
   ],
   "source": [
    "training_pairs = [tensorsFromPair(pairs[i]) for i in range(8)]\n",
    "a=0\n",
    "for i in range(8):\n",
    "    training_pair = training_pairs[i]\n",
    "    input_tensor = training_pair[0]\n",
    "    target_tensor = training_pair[1]\n",
    "    print(input_tensor.tolist())\n",
    "    for ei in range(2):\n",
    "            encoder_output, encoder_hidden = encoder(input_tensor[ei], encoder_hidden)\n",
    "    print(\"pred:\",encoder_output.topk(1)[1].item(),\"true:\", target_tensor[0].item())"
   ]
  },
  {
   "cell_type": "code",
   "execution_count": 77,
   "metadata": {},
   "outputs": [
    {
     "ename": "TypeError",
     "evalue": "'numpy.ndarray' object is not callable",
     "output_type": "error",
     "traceback": [
      "\u001b[0;31m---------------------------------------------------------------------------\u001b[0m",
      "\u001b[0;31mTypeError\u001b[0m                                 Traceback (most recent call last)",
      "\u001b[0;32m<ipython-input-77-03ad01cf447f>\u001b[0m in \u001b[0;36m<module>\u001b[0;34m()\u001b[0m\n\u001b[0;32m----> 1\u001b[0;31m \u001b[0mW2\u001b[0m\u001b[0;34m.\u001b[0m\u001b[0mT\u001b[0m\u001b[0;34m(\u001b[0m\u001b[0;34m)\u001b[0m\u001b[0;34m\u001b[0m\u001b[0m\n\u001b[0m",
      "\u001b[0;31mTypeError\u001b[0m: 'numpy.ndarray' object is not callable"
     ]
    }
   ],
   "source": [
    "W2.T"
   ]
  },
  {
   "cell_type": "code",
   "execution_count": null,
   "metadata": {},
   "outputs": [],
   "source": []
  }
 ],
 "metadata": {
  "kernelspec": {
   "display_name": "Python 3",
   "language": "python",
   "name": "python3"
  },
  "language_info": {
   "codemirror_mode": {
    "name": "ipython",
    "version": 3
   },
   "file_extension": ".py",
   "mimetype": "text/x-python",
   "name": "python",
   "nbconvert_exporter": "python",
   "pygments_lexer": "ipython3",
   "version": "3.5.2"
  }
 },
 "nbformat": 4,
 "nbformat_minor": 2
}
