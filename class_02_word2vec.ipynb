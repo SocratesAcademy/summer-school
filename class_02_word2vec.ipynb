{
 "cells": [
  {
   "cell_type": "markdown",
   "metadata": {
    "slideshow": {
     "slide_type": "slide"
    }
   },
   "source": [
    "# word2vec"
   ]
  },
  {
   "cell_type": "markdown",
   "metadata": {
    "slideshow": {
     "slide_type": "subslide"
    }
   },
   "source": [
    "#### for word2vec:\n",
    "https://towardsdatascience.com/implementing-word2vec-in-pytorch-skip-gram-model-e6bae040d2fb\n",
    "#### for transD:\n",
    "https://github.com/jimmywangheng/knowledge_representation_pytorch/\n",
    "#### for RNN:\n",
    "https://pytorch.org/tutorials/intermediate/seq2seq_translation_tutorial.html"
   ]
  },
  {
   "cell_type": "code",
   "execution_count": 1,
   "metadata": {
    "ExecuteTime": {
     "end_time": "2019-07-06T07:49:26.757074Z",
     "start_time": "2019-07-06T07:49:25.645816Z"
    },
    "slideshow": {
     "slide_type": "subslide"
    }
   },
   "outputs": [],
   "source": [
    "from collections import defaultdict, Counter\n",
    "import networkx as nx\n",
    "import numpy as np\n",
    "import pylab as plt\n",
    "import random\n",
    "import torch\n",
    "import torch.nn as nn\n",
    "from copy import deepcopy\n",
    "from torch import optim\n",
    "import torch.nn.functional as F\n",
    "from torch.autograd import Variable\n"
   ]
  },
  {
   "cell_type": "code",
   "execution_count": 15,
   "metadata": {
    "ExecuteTime": {
     "end_time": "2019-07-06T07:57:06.878425Z",
     "start_time": "2019-07-06T07:57:06.520703Z"
    },
    "slideshow": {
     "slide_type": "subslide"
    }
   },
   "outputs": [],
   "source": [
    "# parameters and data\n",
    "vocabulary_size = 10\n",
    "embedding_dims = 2\n",
    "sample_size = 10000\n",
    "#pairs=list(zip(range(9),range(1,10)))+[(9,0)]+list(zip(range(10),range(10)))\n",
    "#pairs=list(zip(range(9),range(1,10)))\n",
    "pairs=list(zip(range(9),range(1,10)))+list(zip(range(10),range(10)))\n",
    "idx_pairs=np.array(random.choices(pairs,k=sample_size))\n",
    "idx_pairs = np.apply_along_axis(np.random.permutation,1,idx_pairs)"
   ]
  },
  {
   "cell_type": "code",
   "execution_count": 16,
   "metadata": {
    "ExecuteTime": {
     "end_time": "2019-07-06T07:57:08.316902Z",
     "start_time": "2019-07-06T07:57:08.312666Z"
    },
    "slideshow": {
     "slide_type": "subslide"
    }
   },
   "outputs": [
    {
     "data": {
      "text/plain": [
       "[(0, 1),\n",
       " (1, 2),\n",
       " (2, 3),\n",
       " (3, 4),\n",
       " (4, 5),\n",
       " (5, 6),\n",
       " (6, 7),\n",
       " (7, 8),\n",
       " (8, 9),\n",
       " (0, 0),\n",
       " (1, 1),\n",
       " (2, 2),\n",
       " (3, 3),\n",
       " (4, 4),\n",
       " (5, 5),\n",
       " (6, 6),\n",
       " (7, 7),\n",
       " (8, 8),\n",
       " (9, 9)]"
      ]
     },
     "execution_count": 16,
     "metadata": {},
     "output_type": "execute_result"
    }
   ],
   "source": [
    "pairs"
   ]
  },
  {
   "cell_type": "code",
   "execution_count": 17,
   "metadata": {
    "ExecuteTime": {
     "end_time": "2019-07-06T07:57:19.771879Z",
     "start_time": "2019-07-06T07:57:19.768794Z"
    },
    "slideshow": {
     "slide_type": "subslide"
    }
   },
   "outputs": [],
   "source": [
    "def oneHot(word_idx):\n",
    "    x = torch.zeros(vocabulary_size).float()\n",
    "    x[word_idx] = 1.0\n",
    "    return x"
   ]
  },
  {
   "cell_type": "code",
   "execution_count": 19,
   "metadata": {
    "ExecuteTime": {
     "end_time": "2019-07-06T08:01:33.182914Z",
     "start_time": "2019-07-06T07:57:50.299897Z"
    },
    "slideshow": {
     "slide_type": "slide"
    }
   },
   "outputs": [
    {
     "name": "stdout",
     "output_type": "stream",
     "text": [
      "Loss at epo 0: 1.399356114923954\n",
      "Loss at epo 2: 1.0292332652807237\n",
      "Loss at epo 4: 1.0267999783039092\n",
      "Loss at epo 6: 1.025856315755844\n",
      "Loss at epo 8: 1.0252606665611268\n",
      "Loss at epo 10: 1.0248311063289641\n",
      "Loss at epo 12: 1.0244993392944335\n",
      "Loss at epo 14: 1.0242323592662812\n",
      "Loss at epo 16: 1.0240114040851593\n",
      "Loss at epo 18: 1.0238249147891998\n",
      "Loss at epo 20: 1.0236650954723359\n",
      "Loss at epo 22: 1.0235264299869538\n",
      "Loss at epo 24: 1.023404911518097\n",
      "Loss at epo 26: 1.0232975048542023\n",
      "Loss at epo 28: 1.0232018991470337\n",
      "Loss at epo 30: 1.0231163442611695\n",
      "Loss at epo 32: 1.023039317560196\n",
      "Loss at epo 34: 1.022969713783264\n",
      "Loss at epo 36: 1.022906504392624\n",
      "Loss at epo 38: 1.02284889626503\n",
      "Loss at epo 40: 1.0227962481498718\n",
      "Loss at epo 42: 1.022747976541519\n",
      "Loss at epo 44: 1.0227035741329193\n",
      "Loss at epo 46: 1.0226626495361328\n",
      "Loss at epo 48: 1.0226248146533965\n",
      "Loss at epo 50: 1.022589761543274\n",
      "Loss at epo 52: 1.0225572061061858\n",
      "Loss at epo 54: 1.0225269274711608\n",
      "Loss at epo 56: 1.0224987321853638\n",
      "Loss at epo 58: 1.022472420358658\n",
      "Loss at epo 60: 1.0224478448867798\n",
      "Loss at epo 62: 1.0224248598575592\n",
      "Loss at epo 64: 1.022403295135498\n",
      "Loss at epo 66: 1.0223830512046814\n",
      "Loss at epo 68: 1.0223639968395233\n",
      "Loss at epo 70: 1.0223460433483125\n",
      "Loss at epo 72: 1.0223290714263915\n",
      "Loss at epo 74: 1.0223130489349366\n",
      "Loss at epo 76: 1.0222979133605956\n",
      "Loss at epo 78: 1.0222835556030274\n",
      "Loss at epo 80: 1.0222699581623078\n",
      "Loss at epo 82: 1.0222570275783538\n",
      "Loss at epo 84: 1.0222447298049926\n",
      "Loss at epo 86: 1.0222330652713776\n",
      "Loss at epo 88: 1.0222219492435456\n",
      "Loss at epo 90: 1.022211360025406\n",
      "Loss at epo 92: 1.0222012673377991\n",
      "Loss at epo 94: 1.0221915943622588\n",
      "Loss at epo 96: 1.0221823862552644\n",
      "Loss at epo 98: 1.0221735826969147\n"
     ]
    }
   ],
   "source": [
    "# model and training\n",
    "\n",
    "W1 = Variable(torch.randn(embedding_dims, vocabulary_size).float(),\n",
    "               requires_grad=True)\n",
    "W2 = Variable(torch.randn(vocabulary_size, embedding_dims).float(),\n",
    "               requires_grad=True)\n",
    "#W1 = Variable(W1_data.t(),\n",
    "#              requires_grad=True)\n",
    "#W2 = Variable(W1_data,\n",
    "#              requires_grad=True)\n",
    "\n",
    "num_epochs = 100\n",
    "learning_rate = 0.01\n",
    "Loss=[]\n",
    "for epo in range(num_epochs):\n",
    "    loss_val = 0\n",
    "    for context, target in idx_pairs:\n",
    "        x = Variable(oneHot(context)).float()\n",
    "        y_true = Variable(torch.from_numpy(np.array([target])).long())\n",
    "\n",
    "        z1 = torch.matmul(W1, x)\n",
    "        z2 = torch.matmul(W2, z1)\n",
    "    \n",
    "        log_softmax = F.log_softmax(z2, dim=0)\n",
    "        loss = F.nll_loss(log_softmax.view(1,-1), y_true)\n",
    "        loss_val += loss.item()\n",
    "        loss.backward()\n",
    "        W1.data -= learning_rate * W1.grad.data\n",
    "        W2.data -= learning_rate * W2.grad.data\n",
    "\n",
    "        W1.grad.data.zero_()\n",
    "        W2.grad.data.zero_()\n",
    "    if epo % 2 == 0:    \n",
    "        print(f'Loss at epo {epo}: {loss_val/len(idx_pairs)}')\n",
    "    Loss.append(loss_val/len(idx_pairs))"
   ]
  },
  {
   "cell_type": "code",
   "execution_count": 20,
   "metadata": {
    "ExecuteTime": {
     "end_time": "2019-07-06T08:02:09.002127Z",
     "start_time": "2019-07-06T08:02:08.864638Z"
    },
    "slideshow": {
     "slide_type": "slide"
    }
   },
   "outputs": [
    {
     "data": {
      "text/plain": [
       "Text(0, 0.5, 'Loss')"
      ]
     },
     "execution_count": 20,
     "metadata": {},
     "output_type": "execute_result"
    },
    {
     "data": {
      "image/png": "[encoded data removed]",
      "text/plain": [
       "<Figure size 432x288 with 1 Axes>"
      ]
     },
     "metadata": {
      "needs_background": "light"
     },
     "output_type": "display_data"
    }
   ],
   "source": [
    "plt.plot(Loss,color='RoyalBlue',marker='o')\n",
    "plt.xlabel('N of epochs',fontsize=16)\n",
    "plt.ylabel('Loss',fontsize=16)"
   ]
  },
  {
   "cell_type": "code",
   "execution_count": 21,
   "metadata": {
    "ExecuteTime": {
     "end_time": "2019-07-06T08:02:10.492151Z",
     "start_time": "2019-07-06T08:02:10.213737Z"
    },
    "slideshow": {
     "slide_type": "slide"
    }
   },
   "outputs": [
    {
     "data": {
      "image/png": "[encoded data removed]",
      "text/plain": [
       "<Figure size 576x288 with 2 Axes>"
      ]
     },
     "metadata": {},
     "output_type": "display_data"
    }
   ],
   "source": [
    "pos1=dict(zip(range(10),W1.data.numpy().T))\n",
    "pos2=dict(zip(range(10),W2.data.numpy()))\n",
    "#\n",
    "fig = plt.figure(figsize=(8, 4),facecolor='white')\n",
    "ax = fig.add_subplot(121)\n",
    "for i in pos1:\n",
    "    x,y=pos1[i]\n",
    "    #plt.plot(x,y,marker='o',color='r')\n",
    "    plt.text(x,y,i,size=14,color='r')\n",
    "#\n",
    "for i in pos2:\n",
    "    x,y=pos2[i]\n",
    "    #plt.plot(x,y,marker='^',color='gray')\n",
    "    plt.text(x,y,i,size=14,color='gray')\n",
    "#plt.legend(loc=3)\n",
    "l=7\n",
    "plt.xlim(-l,l)\n",
    "plt.ylim(-l,l)\n",
    "#annotation\n",
    "#plt.plot(0,0,'ro')\n",
    "#plt.text(0,0.5,'center vector (W1)',ha='center',color='r')\n",
    "#plt.plot(0,0,marker='^',color='gray')\n",
    "#plt.text(0,-0.5,'context vector (W2)',ha='center',color='gray')\n",
    "plt.title('W1 (red) and W2 (gray)',fontsize=16)\n",
    "#\n",
    "ax = fig.add_subplot(122)\n",
    "for i in pos1:\n",
    "    x1,y1=pos1[i]\n",
    "    x2,y2=pos2[i]\n",
    "    #plt.plot((x1+x2)/2,(y1+y2)/2,marker='s',color='green')\n",
    "    plt.text((x1+x2)/2,(y1+y2)/2,i,size=14,color='green')\n",
    "\n",
    "plt.xlim(-l,l)\n",
    "plt.ylim(-l,l)\n",
    "plt.title('Averaged',fontsize=16)\n",
    "#\n",
    "plt.tight_layout()\n",
    "plt.show()"
   ]
  },
  {
   "cell_type": "code",
   "execution_count": null,
   "metadata": {},
   "outputs": [],
   "source": []
  }
 ],
 "metadata": {
  "celltoolbar": "Slideshow",
  "kernelspec": {
   "display_name": "Python 3",
   "language": "python",
   "name": "python3"
  },
  "language_info": {
   "codemirror_mode": {
    "name": "ipython",
    "version": 3
   },
   "file_extension": ".py",
   "mimetype": "text/x-python",
   "name": "python",
   "nbconvert_exporter": "python",
   "pygments_lexer": "ipython3",
   "version": "3.7.3"
  },
  "latex_envs": {
   "LaTeX_envs_menu_present": true,
   "autoclose": false,
   "autocomplete": true,
   "bibliofile": "biblio.bib",
   "cite_by": "apalike",
   "current_citInitial": 1,
   "eqLabelWithNumbers": true,
   "eqNumInitial": 1,
   "hotkeys": {
    "equation": "Ctrl-E",
    "itemize": "Ctrl-I"
   },
   "labels_anchors": false,
   "latex_user_defs": false,
   "report_style_numbering": false,
   "user_envs_cfg": false
  },
  "toc": {
   "base_numbering": 1,
   "nav_menu": {},
   "number_sections": false,
   "sideBar": true,
   "skip_h1_title": false,
   "title_cell": "Table of Contents",
   "title_sidebar": "Contents",
   "toc_cell": false,
   "toc_position": {},
   "toc_section_display": true,
   "toc_window_display": false
  }
 },
 "nbformat": 4,
 "nbformat_minor": 2
}
