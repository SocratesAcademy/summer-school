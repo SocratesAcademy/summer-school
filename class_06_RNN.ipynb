{
 "cells": [
  {
   "cell_type": "markdown",
   "metadata": {},
   "source": [
    "# for word2vec:\n",
    "https://towardsdatascience.com/implementing-word2vec-in-pytorch-skip-gram-model-e6bae040d2fb\n",
    "# for transD:\n",
    "https://github.com/jimmywangheng/knowledge_representation_pytorch/\n",
    "# for RNN:\n",
    "https://pytorch.org/tutorials/intermediate/seq2seq_translation_tutorial.html"
   ]
  },
  {
   "cell_type": "code",
   "execution_count": 1,
   "metadata": {
    "ExecuteTime": {
     "end_time": "2019-07-06T03:55:03.121808Z",
     "start_time": "2019-07-06T03:55:02.322519Z"
    }
   },
   "outputs": [],
   "source": [
    "from collections import defaultdict, Counter\n",
    "import networkx as nx\n",
    "import numpy as np\n",
    "import pylab as plt\n",
    "import random\n",
    "import torch\n",
    "import torch.nn as nn\n",
    "from copy import deepcopy\n",
    "from torch import optim\n",
    "import torch.nn.functional as F\n",
    "from torch.autograd import Variable\n"
   ]
  },
  {
   "cell_type": "markdown",
   "metadata": {},
   "source": [
    "# RNN"
   ]
  },
  {
   "cell_type": "code",
   "execution_count": 2,
   "metadata": {
    "ExecuteTime": {
     "end_time": "2019-07-06T03:55:04.269657Z",
     "start_time": "2019-07-06T03:55:04.219692Z"
    }
   },
   "outputs": [],
   "source": [
    "class EncoderRNN(nn.Module):\n",
    "    def __init__(self, input_size, hidden_size):\n",
    "        super(EncoderRNN, self).__init__()\n",
    "        self.hidden_size = hidden_size\n",
    "        self.embedding = nn.Embedding(input_size, hidden_size)\n",
    "        self.gru = nn.GRU(hidden_size, hidden_size)\n",
    "        self.out = nn.Linear(hidden_size, input_size)\n",
    "        self.softmax = nn.LogSoftmax(dim=1)\n",
    "        \n",
    "    def forward(self, input, hidden):\n",
    "        embedded = self.embedding(input).view(1, 1, -1)\n",
    "        output, hidden = self.gru(embedded, hidden)\n",
    "        output = self.out(output[0]) \n",
    "        output = self.softmax(output)\n",
    "        return output, hidden\n",
    "\n",
    "    def initHidden(self):\n",
    "        return torch.zeros(1, 1, self.hidden_size)\n",
    "    \n",
    "def oneHot(idx):\n",
    "    x = torch.zeros(10).float()\n",
    "    x[idx] = 1.0\n",
    "    return x\n",
    "\n",
    "def tensorsFromPair(pair):\n",
    "    input_tensor = torch.tensor(pair[0], dtype=torch.long).view(-1, 1)\n",
    "    target_tensor = torch.tensor(pair[1], dtype=torch.long).view(-1, 1)\n",
    "    return (input_tensor, target_tensor)"
   ]
  },
  {
   "cell_type": "code",
   "execution_count": 3,
   "metadata": {
    "ExecuteTime": {
     "end_time": "2019-07-06T03:55:05.162171Z",
     "start_time": "2019-07-06T03:55:05.092364Z"
    }
   },
   "outputs": [],
   "source": [
    "# order is compressed and passed from input sequence to output sequence\n",
    "\n",
    "class EncoderRNN_(nn.Module):\n",
    "    def __init__(self, input_size, hidden_size):\n",
    "        super(EncoderRNN_, self).__init__()\n",
    "        self.hidden_size = hidden_size\n",
    "        self.embedding = nn.Embedding(input_size, hidden_size)\n",
    "        self.gru = nn.GRU(hidden_size, hidden_size)\n",
    "\n",
    "    def forward(self, current_input_element_index, order):\n",
    "        # here I call hidden \"order\" because it comressed the order of the input sequences\n",
    "        current_input_element_embedded = self.embedding(current_input_element_index).view(1, 1, -1)\n",
    "        current_input_element_wasted, compressed_order = self.gru(current_input_element_embedded, order)\n",
    "        return current_input_element_wasted, compressed_order\n",
    "\n",
    "    def initHidden(self):\n",
    "        return torch.zeros(1, 1, self.hidden_size)\n",
    "    \n",
    "class DecoderRNN_(nn.Module):\n",
    "    def __init__(self, hidden_size, output_size):\n",
    "        super(DecoderRNN_, self).__init__()\n",
    "        self.hidden_size = hidden_size\n",
    "        self.embedding = nn.Embedding(output_size, hidden_size)\n",
    "        self.gru = nn.GRU(hidden_size, hidden_size)\n",
    "        self.out = nn.Linear(hidden_size, output_size)\n",
    "        self.softmax = nn.LogSoftmax(dim=1)\n",
    "\n",
    "    def forward(self, last_output_element_index, order):# starting for SOS\n",
    "        last_output_element_embedded = self.embedding(last_output_element_index).view(1, 1, -1)\n",
    "        last_output_element_embedded = F.relu(last_output_element_embedded)#only keep positive\n",
    "        current_output_element_embedded, decompressed_order = self.gru(last_output_element_embedded, order)\n",
    "        current_output_element_predicted = self.softmax(self.out(current_output_element_embedded[0]))\n",
    "        return current_output_element_predicted, decompressed_order\n",
    "\n",
    "    def initHidden(self):\n",
    "        return torch.zeros(1, 1, self.hidden_size)"
   ]
  },
  {
   "cell_type": "code",
   "execution_count": 4,
   "metadata": {
    "ExecuteTime": {
     "end_time": "2019-07-06T03:55:06.341207Z",
     "start_time": "2019-07-06T03:55:06.307287Z"
    }
   },
   "outputs": [],
   "source": [
    "SOS_token = 0\n",
    "input_size, hidden_size, output_size=(10,2,10)# 0 is SOS, both input and output sequences starts from SOS\n",
    "n_iters = 100\n",
    "encoder = EncoderRNN_(input_size, hidden_size)\n",
    "decoder = DecoderRNN_(hidden_size, output_size)\n",
    "learning_rate = 0.05\n",
    "encoder_optimizer = optim.SGD(encoder.parameters(), lr=learning_rate)\n",
    "decoder_optimizer = optim.SGD(decoder.parameters(), lr=learning_rate)\n",
    "order = encoder.initHidden()\n",
    "criterion = nn.NLLLoss()\n",
    "#\n",
    "input_data=list(zip(range(1,9),range(2,10)))\n",
    "output_data=list(zip(range(10,90,10),range(20,100,10)))\n",
    "pairs= list(zip(input_data,output_data))\n",
    "outputToIndex={v:k for k,v in enumerate([0]+[i for i in range(10,100,10)])}\n",
    "inv_outputToIndex = {v: k for k, v in outputToIndex.items()}\n"
   ]
  },
  {
   "cell_type": "code",
   "execution_count": 5,
   "metadata": {
    "ExecuteTime": {
     "end_time": "2019-07-06T03:55:07.114511Z",
     "start_time": "2019-07-06T03:55:07.107279Z"
    }
   },
   "outputs": [
    {
     "data": {
      "text/plain": [
       "[((1, 2), (10, 20)),\n",
       " ((2, 3), (20, 30)),\n",
       " ((3, 4), (30, 40)),\n",
       " ((4, 5), (40, 50)),\n",
       " ((5, 6), (50, 60)),\n",
       " ((6, 7), (60, 70)),\n",
       " ((7, 8), (70, 80)),\n",
       " ((8, 9), (80, 90))]"
      ]
     },
     "execution_count": 5,
     "metadata": {},
     "output_type": "execute_result"
    }
   ],
   "source": [
    "pairs"
   ]
  },
  {
   "cell_type": "code",
   "execution_count": null,
   "metadata": {
    "ExecuteTime": {
     "start_time": "2019-07-06T03:55:09.274Z"
    }
   },
   "outputs": [
    {
     "name": "stdout",
     "output_type": "stream",
     "text": [
      "0 0.3804517364501953\n",
      "50 0.22074283361434938\n"
     ]
    }
   ],
   "source": [
    "Loss=[]\n",
    "for epoch in range(500):\n",
    "    training_pairs = [tensorsFromPair(pair) for pair in pairs]\n",
    "    a=0\n",
    "    for input_tensor,target_tensor in training_pairs:\n",
    "        loss=0\n",
    "        encoder_optimizer.zero_grad()\n",
    "        decoder_optimizer.zero_grad()\n",
    "        input_length = input_tensor.size(0)\n",
    "        target_length = target_tensor.size(0)\n",
    "        \n",
    "        for ei in range(input_length):\n",
    "            current_input_element_wasted, order= encoder(input_tensor[ei], order)\n",
    "            \n",
    "        decoder_input = torch.tensor([[SOS_token]])\n",
    "        \n",
    "        for di in range(target_length):\n",
    "            current_output_element_predicted, order= decoder(decoder_input, order)\n",
    "            topv, topi = current_output_element_predicted.topk(1)\n",
    "            decoder_input = topi.squeeze().detach()  # detach from history as input\n",
    "            target=torch.tensor(outputToIndex[target_tensor[di].item()], dtype=torch.long).view(-1, 1)[0]\n",
    "            loss += criterion(current_output_element_predicted, target)\n",
    "\n",
    "        loss.backward(retain_graph=True)\n",
    "        encoder_optimizer.step()\n",
    "        decoder_optimizer.step()\n",
    "        a+=loss.item()\n",
    "        \n",
    "    Loss.append(a/n_iters)\n",
    "    if epoch%50==0:\n",
    "        print(epoch, a/n_iters)"
   ]
  },
  {
   "cell_type": "code",
   "execution_count": null,
   "metadata": {},
   "outputs": [],
   "source": []
  },
  {
   "cell_type": "code",
   "execution_count": 1866,
   "metadata": {},
   "outputs": [
    {
     "data": {
      "text/plain": [
       "Text(0,0.5,'Loss')"
      ]
     },
     "execution_count": 1866,
     "metadata": {},
     "output_type": "execute_result"
    },
    {
     "data": {
      "image/png": "[encoded data removed]",
      "text/plain": [
       "<Figure size 432x288 with 1 Axes>"
      ]
     },
     "metadata": {
      "needs_background": "light"
     },
     "output_type": "display_data"
    }
   ],
   "source": [
    "plt.plot(Loss,color='RoyalBlue',marker='o')\n",
    "plt.xlabel('N of epochs',fontsize=16)\n",
    "plt.ylabel('Loss',fontsize=16)"
   ]
  },
  {
   "cell_type": "code",
   "execution_count": 1867,
   "metadata": {},
   "outputs": [
    {
     "name": "stdout",
     "output_type": "stream",
     "text": [
      "(1, 2) (10, 20) predicted: [20, 20]\n",
      "(2, 3) (20, 30) predicted: [20, 30]\n",
      "(3, 4) (30, 40) predicted: [40, 40]\n",
      "(4, 5) (40, 50) predicted: [40, 40]\n",
      "(5, 6) (50, 60) predicted: [60, 60]\n",
      "(6, 7) (60, 70) predicted: [60, 60]\n",
      "(7, 8) (70, 80) predicted: [80, 80]\n",
      "(8, 9) (80, 90) predicted: [80, 80]\n"
     ]
    }
   ],
   "source": [
    "for k,v in pairs:\n",
    "    input_tensor,target_tensor=tensorsFromPair((k,v))\n",
    "    for ei in range(input_length):\n",
    "        current_input_element_wasted, order= encoder(input_tensor[ei], order)\n",
    "    decoder_input = torch.tensor([[SOS_token]])\n",
    "    predictates=[]\n",
    "    for di in range(2):\n",
    "        current_output_element_predicted, order= decoder(decoder_input, order)\n",
    "        topv, topi = current_output_element_predicted.topk(1)\n",
    "        predictates.append(inv_outputToIndex[topi.item()])\n",
    "        decoder_input = topi.squeeze().detach()  # detach from history as input\n",
    "    print(k,v,'predicted: '+str(predictates))"
   ]
  },
  {
   "cell_type": "code",
   "execution_count": null,
   "metadata": {},
   "outputs": [],
   "source": []
  },
  {
   "cell_type": "code",
   "execution_count": 1744,
   "metadata": {},
   "outputs": [],
   "source": [
    "input_size, hidden_size = 10, 2\n",
    "n_iters = 100\n",
    "encoder = EncoderRNN(input_size, hidden_size)\n",
    "learning_rate = 0.01\n",
    "encoder_optimizer = optim.SGD(encoder.parameters(), lr=learning_rate)\n",
    "encoder_hidden = encoder.initHidden()\n",
    "criterion = nn.NLLLoss()\n",
    "#\n",
    "input_data = list(zip(range(0,8),range(1,9)))\n",
    "output_data = list(range(2,10))\n",
    "pairs= list(zip(input_data,output_data))"
   ]
  },
  {
   "cell_type": "code",
   "execution_count": 1745,
   "metadata": {},
   "outputs": [
    {
     "name": "stdout",
     "output_type": "stream",
     "text": [
      "0 0.1898694694042206\n",
      "10 0.1862170648574829\n"
     ]
    },
    {
     "ename": "KeyboardInterrupt",
     "evalue": "",
     "output_type": "error",
     "traceback": [
      "\u001b[0;31m---------------------------------------------------------------------------\u001b[0m",
      "\u001b[0;31mKeyboardInterrupt\u001b[0m                         Traceback (most recent call last)",
      "\u001b[0;32m<ipython-input-1745-dbb414d7a552>\u001b[0m in \u001b[0;36m<module>\u001b[0;34m()\u001b[0m\n\u001b[1;32m     15\u001b[0m         \u001b[0mloss\u001b[0m \u001b[0;34m+=\u001b[0m \u001b[0mcriterion\u001b[0m\u001b[0;34m(\u001b[0m\u001b[0mencoder_output\u001b[0m\u001b[0;34m,\u001b[0m \u001b[0mtarget_tensor\u001b[0m\u001b[0;34m[\u001b[0m\u001b[0;36m0\u001b[0m\u001b[0;34m]\u001b[0m\u001b[0;34m)\u001b[0m\u001b[0;34m\u001b[0m\u001b[0;34m\u001b[0m\u001b[0m\n\u001b[1;32m     16\u001b[0m \u001b[0;34m\u001b[0m\u001b[0m\n\u001b[0;32m---> 17\u001b[0;31m         \u001b[0mloss\u001b[0m\u001b[0;34m.\u001b[0m\u001b[0mbackward\u001b[0m\u001b[0;34m(\u001b[0m\u001b[0mretain_graph\u001b[0m\u001b[0;34m=\u001b[0m\u001b[0;32mTrue\u001b[0m\u001b[0;34m)\u001b[0m\u001b[0;34m\u001b[0m\u001b[0;34m\u001b[0m\u001b[0m\n\u001b[0m\u001b[1;32m     18\u001b[0m         \u001b[0mencoder_optimizer\u001b[0m\u001b[0;34m.\u001b[0m\u001b[0mstep\u001b[0m\u001b[0;34m(\u001b[0m\u001b[0;34m)\u001b[0m\u001b[0;34m\u001b[0m\u001b[0;34m\u001b[0m\u001b[0m\n\u001b[1;32m     19\u001b[0m         \u001b[0ma\u001b[0m\u001b[0;34m+=\u001b[0m\u001b[0mloss\u001b[0m\u001b[0;34m.\u001b[0m\u001b[0mitem\u001b[0m\u001b[0;34m(\u001b[0m\u001b[0;34m)\u001b[0m\u001b[0;34m\u001b[0m\u001b[0;34m\u001b[0m\u001b[0m\n",
      "\u001b[0;32m/anaconda3/lib/python3.7/site-packages/torch/tensor.py\u001b[0m in \u001b[0;36mbackward\u001b[0;34m(self, gradient, retain_graph, create_graph)\u001b[0m\n\u001b[1;32m    100\u001b[0m                 \u001b[0mproducts\u001b[0m\u001b[0;34m.\u001b[0m \u001b[0mDefaults\u001b[0m \u001b[0mto\u001b[0m\u001b[0;31m \u001b[0m\u001b[0;31m`\u001b[0m\u001b[0;31m`\u001b[0m\u001b[0;32mFalse\u001b[0m\u001b[0;31m`\u001b[0m\u001b[0;31m`\u001b[0m\u001b[0;34m.\u001b[0m\u001b[0;34m\u001b[0m\u001b[0;34m\u001b[0m\u001b[0m\n\u001b[1;32m    101\u001b[0m         \"\"\"\n\u001b[0;32m--> 102\u001b[0;31m         \u001b[0mtorch\u001b[0m\u001b[0;34m.\u001b[0m\u001b[0mautograd\u001b[0m\u001b[0;34m.\u001b[0m\u001b[0mbackward\u001b[0m\u001b[0;34m(\u001b[0m\u001b[0mself\u001b[0m\u001b[0;34m,\u001b[0m \u001b[0mgradient\u001b[0m\u001b[0;34m,\u001b[0m \u001b[0mretain_graph\u001b[0m\u001b[0;34m,\u001b[0m \u001b[0mcreate_graph\u001b[0m\u001b[0;34m)\u001b[0m\u001b[0;34m\u001b[0m\u001b[0;34m\u001b[0m\u001b[0m\n\u001b[0m\u001b[1;32m    103\u001b[0m \u001b[0;34m\u001b[0m\u001b[0m\n\u001b[1;32m    104\u001b[0m     \u001b[0;32mdef\u001b[0m \u001b[0mregister_hook\u001b[0m\u001b[0;34m(\u001b[0m\u001b[0mself\u001b[0m\u001b[0;34m,\u001b[0m \u001b[0mhook\u001b[0m\u001b[0;34m)\u001b[0m\u001b[0;34m:\u001b[0m\u001b[0;34m\u001b[0m\u001b[0;34m\u001b[0m\u001b[0m\n",
      "\u001b[0;32m/anaconda3/lib/python3.7/site-packages/torch/autograd/__init__.py\u001b[0m in \u001b[0;36mbackward\u001b[0;34m(tensors, grad_tensors, retain_graph, create_graph, grad_variables)\u001b[0m\n\u001b[1;32m     88\u001b[0m     Variable._execution_engine.run_backward(\n\u001b[1;32m     89\u001b[0m         \u001b[0mtensors\u001b[0m\u001b[0;34m,\u001b[0m \u001b[0mgrad_tensors\u001b[0m\u001b[0;34m,\u001b[0m \u001b[0mretain_graph\u001b[0m\u001b[0;34m,\u001b[0m \u001b[0mcreate_graph\u001b[0m\u001b[0;34m,\u001b[0m\u001b[0;34m\u001b[0m\u001b[0;34m\u001b[0m\u001b[0m\n\u001b[0;32m---> 90\u001b[0;31m         allow_unreachable=True)  # allow_unreachable flag\n\u001b[0m\u001b[1;32m     91\u001b[0m \u001b[0;34m\u001b[0m\u001b[0m\n\u001b[1;32m     92\u001b[0m \u001b[0;34m\u001b[0m\u001b[0m\n",
      "\u001b[0;31mKeyboardInterrupt\u001b[0m: "
     ]
    }
   ],
   "source": [
    "Loss=[]\n",
    "for epoch in range(100):\n",
    "    training_pairs = [tensorsFromPair(pair) for pair in pairs]\n",
    "    a=0\n",
    "    for i in range(len(training_pairs)):\n",
    "        loss=0\n",
    "        training_pair = training_pairs[i]\n",
    "        input_tensor = training_pair[0]\n",
    "        target_tensor = training_pair[1]\n",
    "        encoder_optimizer.zero_grad()\n",
    "        input_length = input_tensor.size(0)\n",
    "        target_length = target_tensor.size(0)\n",
    "        for ei in range(input_length):\n",
    "            encoder_output, encoder_hidden = encoder(input_tensor[ei], encoder_hidden)\n",
    "        loss += criterion(encoder_output, target_tensor[0])\n",
    "\n",
    "        loss.backward(retain_graph=True)\n",
    "        encoder_optimizer.step()\n",
    "        a+=loss.item()\n",
    "    Loss.append(a/n_iters)\n",
    "    if epoch%10==0:\n",
    "        print(epoch, a/n_iters)"
   ]
  },
  {
   "cell_type": "code",
   "execution_count": 1609,
   "metadata": {},
   "outputs": [
    {
     "data": {
      "text/plain": [
       "Text(0,0.5,'Loss')"
      ]
     },
     "execution_count": 1609,
     "metadata": {},
     "output_type": "execute_result"
    },
    {
     "data": {
      "image/png": "[encoded data removed]",
      "text/plain": [
       "<Figure size 432x288 with 1 Axes>"
      ]
     },
     "metadata": {
      "needs_background": "light"
     },
     "output_type": "display_data"
    }
   ],
   "source": [
    "plt.plot(Loss,color='RoyalBlue',marker='o')\n",
    "plt.xlabel('N of epochs',fontsize=16)\n",
    "plt.ylabel('Loss',fontsize=16)"
   ]
  },
  {
   "cell_type": "code",
   "execution_count": 1610,
   "metadata": {},
   "outputs": [
    {
     "name": "stdout",
     "output_type": "stream",
     "text": [
      "(0, 1) 2 predicted: 3\n",
      "(1, 2) 3 predicted: 3\n",
      "(2, 3) 4 predicted: 3\n",
      "(3, 4) 5 predicted: 4\n",
      "(4, 5) 6 predicted: 4\n",
      "(5, 6) 7 predicted: 3\n",
      "(6, 7) 8 predicted: 3\n",
      "(7, 8) 9 predicted: 2\n"
     ]
    }
   ],
   "source": [
    "for k,v in pairs:\n",
    "    input_tensor,target_tensor=tensorsFromPair((k,v))\n",
    "    for ei in range(2):\n",
    "        encoder_output, encoder_hidden = encoder(input_tensor[ei], encoder_hidden)\n",
    "    print(k,target_tensor[0].item(),'predicted: '+str(encoder_output.topk(1)[1].item()))"
   ]
  },
  {
   "cell_type": "code",
   "execution_count": 1602,
   "metadata": {},
   "outputs": [
    {
     "data": {
      "image/png": "[encoded data removed]",
      "text/plain": [
       "<Figure size 576x288 with 1 Axes>"
      ]
     },
     "metadata": {},
     "output_type": "display_data"
    }
   ],
   "source": [
    "pos=dict(zip(range(10),encoder.out.weight.data.numpy()))\n",
    "fig = plt.figure(figsize=(8, 4),facecolor='white')\n",
    "ax = fig.add_subplot(121)\n",
    "for i in pos:\n",
    "    x,y=pos[i]\n",
    "    plt.plot(x,y,marker='o',color='r')\n",
    "    plt.text(x,y,i,size=14,color='r')"
   ]
  },
  {
   "cell_type": "code",
   "execution_count": null,
   "metadata": {},
   "outputs": [],
   "source": []
  }
 ],
 "metadata": {
  "kernelspec": {
   "display_name": "Python [conda env:anaconda]",
   "language": "python",
   "name": "conda-env-anaconda-py"
  },
  "language_info": {
   "codemirror_mode": {
    "name": "ipython",
    "version": 3
   },
   "file_extension": ".py",
   "mimetype": "text/x-python",
   "name": "python",
   "nbconvert_exporter": "python",
   "pygments_lexer": "ipython3",
   "version": "3.5.4"
  },
  "latex_envs": {
   "LaTeX_envs_menu_present": true,
   "autoclose": false,
   "autocomplete": true,
   "bibliofile": "biblio.bib",
   "cite_by": "apalike",
   "current_citInitial": 1,
   "eqLabelWithNumbers": true,
   "eqNumInitial": 1,
   "hotkeys": {
    "equation": "Ctrl-E",
    "itemize": "Ctrl-I"
   },
   "labels_anchors": false,
   "latex_user_defs": false,
   "report_style_numbering": false,
   "user_envs_cfg": false
  },
  "toc": {
   "base_numbering": 1,
   "nav_menu": {},
   "number_sections": false,
   "sideBar": true,
   "skip_h1_title": false,
   "title_cell": "Table of Contents",
   "title_sidebar": "Contents",
   "toc_cell": false,
   "toc_position": {},
   "toc_section_display": true,
   "toc_window_display": false
  }
 },
 "nbformat": 4,
 "nbformat_minor": 2
}
