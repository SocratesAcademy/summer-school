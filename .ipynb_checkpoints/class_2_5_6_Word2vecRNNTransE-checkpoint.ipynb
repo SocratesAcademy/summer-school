{
 "cells": [
  {
   "cell_type": "code",
   "execution_count": 1653,
   "metadata": {},
   "outputs": [],
   "source": [
    "from collections import defaultdict, Counter\n",
    "import networkx as nx\n",
    "import numpy as np\n",
    "import pylab as plt\n",
    "import random\n",
    "import torch\n",
    "import torch.nn as nn\n",
    "from copy import deepcopy\n",
    "from torch import optim\n",
    "import torch.nn.functional as F\n",
    "from torch.autograd import Variable\n",
    "#for word2vec:\n",
    "#https://towardsdatascience.com/implementing-word2vec-in-pytorch-skip-gram-model-e6bae040d2fb\n",
    "#for transD:\n",
    "#https://github.com/jimmywangheng/knowledge_representation_pytorch/\n",
    "#for RNN:\n",
    "# https://pytorch.org/tutorials/intermediate/seq2seq_translation_tutorial.html"
   ]
  },
  {
   "cell_type": "markdown",
   "metadata": {},
   "source": [
    "# word2vec"
   ]
  },
  {
   "cell_type": "code",
   "execution_count": 1271,
   "metadata": {},
   "outputs": [],
   "source": [
    "# parameters and data\n",
    "vocabulary_size = 10\n",
    "embedding_dims = 2\n",
    "sample_size = 10000\n",
    "#pairs=list(zip(range(9),range(1,10)))+[(9,0)]+list(zip(range(10),range(10)))\n",
    "pairs=list(zip(range(9),range(1,10)))\n",
    "#pairs=list(zip(range(9),range(1,10)))+list(zip(range(10),range(10)))\n",
    "idx_pairs=np.array(random.choices(pairs,k=sample_size))\n",
    "idx_pairs = np.apply_along_axis(np.random.permutation,1,idx_pairs)"
   ]
  },
  {
   "cell_type": "code",
   "execution_count": 1272,
   "metadata": {},
   "outputs": [],
   "source": [
    "def oneHot(word_idx):\n",
    "    x = torch.zeros(vocabulary_size).float()\n",
    "    x[word_idx] = 1.0\n",
    "    return x"
   ]
  },
  {
   "cell_type": "code",
   "execution_count": 1276,
   "metadata": {},
   "outputs": [
    {
     "data": {
      "text/plain": [
       "[(0, 1), (1, 2), (2, 3), (3, 4), (4, 5), (5, 6), (6, 7), (7, 8), (8, 9)]"
      ]
     },
     "execution_count": 1276,
     "metadata": {},
     "output_type": "execute_result"
    }
   ],
   "source": [
    "pairs"
   ]
  },
  {
   "cell_type": "code",
   "execution_count": 1285,
   "metadata": {},
   "outputs": [
    {
     "name": "stdout",
     "output_type": "stream",
     "text": [
      "Loss at epo 0: 1.2865893475174903\n",
      "Loss at epo 2: 0.668473171710968\n",
      "Loss at epo 4: 0.6499884832382202\n",
      "Loss at epo 6: 0.6457534230232239\n",
      "Loss at epo 8: 0.6438822839736938\n",
      "Loss at epo 10: 0.6427263689994812\n",
      "Loss at epo 12: 0.6418707376480103\n",
      "Loss at epo 14: 0.6411756517410279\n",
      "Loss at epo 16: 0.6405841317176819\n",
      "Loss at epo 18: 0.6400685354232788\n",
      "Loss at epo 20: 0.6396132571220398\n",
      "Loss at epo 22: 0.639208243560791\n",
      "Loss at epo 24: 0.6388460092544556\n",
      "Loss at epo 26: 0.6385207743644714\n",
      "Loss at epo 28: 0.6382276543617249\n",
      "Loss at epo 30: 0.6379626395225525\n",
      "Loss at epo 32: 0.6377221578598022\n",
      "Loss at epo 34: 0.6375032707214355\n",
      "Loss at epo 36: 0.6373033808708191\n",
      "Loss at epo 38: 0.6371201851844788\n",
      "Loss at epo 40: 0.636951824760437\n",
      "Loss at epo 42: 0.636796609210968\n",
      "Loss at epo 44: 0.6366530985832214\n",
      "Loss at epo 46: 0.6365200093269349\n",
      "Loss at epo 48: 0.6363962602615356\n",
      "Loss at epo 50: 0.636280907535553\n",
      "Loss at epo 52: 0.6361731362342834\n",
      "Loss at epo 54: 0.6360721619606018\n",
      "Loss at epo 56: 0.6359773507118225\n",
      "Loss at epo 58: 0.6358881804466248\n",
      "Loss at epo 60: 0.6358040511131287\n",
      "Loss at epo 62: 0.6357245725631714\n",
      "Loss at epo 64: 0.6356494123458862\n",
      "Loss at epo 66: 0.6355780924797058\n",
      "Loss at epo 68: 0.6355103676795959\n",
      "Loss at epo 70: 0.6354459290504455\n",
      "Loss at epo 72: 0.6353845277786255\n",
      "Loss at epo 74: 0.6353259613990784\n",
      "Loss at epo 76: 0.635269986820221\n",
      "Loss at epo 78: 0.6352164162635803\n",
      "Loss at epo 80: 0.6351650671958924\n",
      "Loss at epo 82: 0.6351158336639404\n",
      "Loss at epo 84: 0.6350685212135315\n",
      "Loss at epo 86: 0.6350230648994446\n",
      "Loss at epo 88: 0.6349792360305786\n",
      "Loss at epo 90: 0.6349370434761047\n",
      "Loss at epo 92: 0.6348963137626648\n",
      "Loss at epo 94: 0.6348569888114929\n",
      "Loss at epo 96: 0.6348190138816834\n",
      "Loss at epo 98: 0.6347822669029236\n"
     ]
    }
   ],
   "source": [
    "# model and training\n",
    "\n",
    "W1 = Variable(torch.randn(embedding_dims, vocabulary_size).float(),\n",
    "               requires_grad=True)\n",
    "W2 = Variable(torch.randn(vocabulary_size, embedding_dims).float(),\n",
    "               requires_grad=True)\n",
    "#W1 = Variable(W1_data.t(),\n",
    "#              requires_grad=True)\n",
    "#W2 = Variable(W1_data,\n",
    "#              requires_grad=True)\n",
    "\n",
    "num_epochs = 100\n",
    "learning_rate = 0.01\n",
    "Loss=[]\n",
    "for epo in range(num_epochs):\n",
    "    loss_val = 0\n",
    "    for context, target in idx_pairs:\n",
    "        x = Variable(oneHot(context)).float()\n",
    "        y_true = Variable(torch.from_numpy(np.array([target])).long())\n",
    "\n",
    "        z1 = torch.matmul(W1, x)\n",
    "        z2 = torch.matmul(W2, z1)\n",
    "    \n",
    "        log_softmax = F.log_softmax(z2, dim=0)\n",
    "        loss = F.nll_loss(log_softmax.view(1,-1), y_true)\n",
    "        loss_val += loss.item()\n",
    "        loss.backward()\n",
    "        W1.data -= learning_rate * W1.grad.data\n",
    "        W2.data -= learning_rate * W2.grad.data\n",
    "\n",
    "        W1.grad.data.zero_()\n",
    "        W2.grad.data.zero_()\n",
    "    if epo % 2 == 0:    \n",
    "        print(f'Loss at epo {epo}: {loss_val/len(idx_pairs)}')\n",
    "    Loss.append(loss_val/len(idx_pairs))"
   ]
  },
  {
   "cell_type": "code",
   "execution_count": 1286,
   "metadata": {},
   "outputs": [
    {
     "data": {
      "text/plain": [
       "Text(0,0.5,'Loss')"
      ]
     },
     "execution_count": 1286,
     "metadata": {},
     "output_type": "execute_result"
    },
    {
     "data": {
      "image/png": "[encoded data removed]",
      "text/plain": [
       "<Figure size 432x288 with 1 Axes>"
      ]
     },
     "metadata": {
      "needs_background": "light"
     },
     "output_type": "display_data"
    }
   ],
   "source": [
    "plt.plot(Loss,color='RoyalBlue',marker='o')\n",
    "plt.xlabel('N of epochs',fontsize=16)\n",
    "plt.ylabel('Loss',fontsize=16)"
   ]
  },
  {
   "cell_type": "code",
   "execution_count": 1288,
   "metadata": {},
   "outputs": [
    {
     "data": {
      "image/png": "[encoded data removed]",
      "text/plain": [
       "<Figure size 576x288 with 2 Axes>"
      ]
     },
     "metadata": {},
     "output_type": "display_data"
    }
   ],
   "source": [
    "pos1=dict(zip(range(10),W1.data.numpy().T))\n",
    "pos2=dict(zip(range(10),W2.data.numpy()))\n",
    "#\n",
    "fig = plt.figure(figsize=(8, 4),facecolor='white')\n",
    "ax = fig.add_subplot(121)\n",
    "for i in pos1:\n",
    "    x,y=pos1[i]\n",
    "    #plt.plot(x,y,marker='o',color='r')\n",
    "    plt.text(x,y,i,size=14,color='r')\n",
    "#\n",
    "for i in pos2:\n",
    "    x,y=pos2[i]\n",
    "    #plt.plot(x,y,marker='^',color='gray')\n",
    "    plt.text(x,y,i,size=14,color='gray')\n",
    "#plt.legend(loc=3)\n",
    "l=7\n",
    "plt.xlim(-l,l)\n",
    "plt.ylim(-l,l)\n",
    "#annotation\n",
    "#plt.plot(0,0,'ro')\n",
    "#plt.text(0,0.5,'center vector (W1)',ha='center',color='r')\n",
    "#plt.plot(0,0,marker='^',color='gray')\n",
    "#plt.text(0,-0.5,'context vector (W2)',ha='center',color='gray')\n",
    "plt.title('W1 (red) and W2 (gray)',fontsize=16)\n",
    "#\n",
    "ax = fig.add_subplot(122)\n",
    "for i in pos1:\n",
    "    x1,y1=pos1[i]\n",
    "    x2,y2=pos2[i]\n",
    "    #plt.plot((x1+x2)/2,(y1+y2)/2,marker='s',color='green')\n",
    "    plt.text((x1+x2)/2,(y1+y2)/2,i,size=14,color='green')\n",
    "\n",
    "plt.xlim(-l,l)\n",
    "plt.ylim(-l,l)\n",
    "plt.title('Averaged',fontsize=16)\n",
    "#\n",
    "plt.tight_layout()\n",
    "plt.show()"
   ]
  },
  {
   "cell_type": "code",
   "execution_count": null,
   "metadata": {},
   "outputs": [],
   "source": []
  },
  {
   "cell_type": "code",
   "execution_count": null,
   "metadata": {},
   "outputs": [],
   "source": []
  },
  {
   "cell_type": "markdown",
   "metadata": {},
   "source": [
    "# TransE"
   ]
  },
  {
   "cell_type": "code",
   "execution_count": 1145,
   "metadata": {},
   "outputs": [],
   "source": [
    "def marginLoss(pos, neg, margin):\n",
    "    return torch.sum(torch.max(pos - neg + margin, torch.zeros(pos.size())))\n",
    "\n",
    "def getBatchList(tripleList, num_batches):\n",
    "    l = len(tripleList) // num_batches # batch_size\n",
    "    v = []\n",
    "    for i in range(num_batches-1):\n",
    "        v.append(tripleList[l*i:l*(i+1)])\n",
    "    v.append(tripleList[l*(num_batches-1):])\n",
    "    return v\n",
    "\n",
    "def getBatch_raw_all(tripleList):\n",
    "    ph, pt ,pr = np.array(tripleList).T\n",
    "    k=int(len(tripleList)/2)\n",
    "    newTripleList=deepcopy(tripleList)\n",
    "    np.random.shuffle(newTripleList[:k,0])# corrupt head/tail for half of data\n",
    "    np.random.shuffle(newTripleList[k:,-1])\n",
    "    nh, nt, nr = np.array(newTripleList).T\n",
    "    return ph, pt, pr, nh, nt, nr"
   ]
  },
  {
   "cell_type": "code",
   "execution_count": 1149,
   "metadata": {},
   "outputs": [],
   "source": [
    "class transE(nn.Module):\n",
    "\n",
    "    def __init__(self, entity_total, relation_total, embedding_size):\n",
    "        super(transE, self).__init__()\n",
    "        \n",
    "        self.eE = nn.Embedding(entity_total, embedding_size) #embed entities\n",
    "        self.rE = nn.Embedding(relation_total, embedding_size) #embed relation(s)\n",
    "\n",
    "    def forward(self, pos_h, pos_t, pos_r, neg_h, neg_t, neg_r):\n",
    "        \n",
    "        pos_h_e = self.eE(pos_h)\n",
    "        pos_t_e = self.eE(pos_t)\n",
    "        pos_r_e = self.rE(pos_r)\n",
    "        neg_h_e = self.eE(neg_h)\n",
    "        neg_t_e = self.eE(neg_t)\n",
    "        neg_r_e = self.rE(neg_r)\n",
    "        \n",
    "        pos = torch.sum((pos_h_e + pos_r_e - pos_t_e) ** 2, 1)\n",
    "        neg = torch.sum((neg_h_e + neg_r_e - neg_t_e) ** 2, 1)\n",
    "        return pos, neg\n",
    "    \n",
    "    def get_eE(self, inputs):\n",
    "        return self.eE(inputs)\n",
    "\n",
    "    def get_rE(self, inputs):\n",
    "        return self.rE(inputs)\n",
    "    "
   ]
  },
  {
   "cell_type": "code",
   "execution_count": 1870,
   "metadata": {},
   "outputs": [],
   "source": [
    "# parameters\n",
    "num_batches=100\n",
    "embedding_size=2\n",
    "entity_total=10\n",
    "relation_total=1\n",
    "sample_size = 10000\n",
    "pairs=list(zip(range(9),[0]*10,range(1,10)))\n",
    "trainList=np.array(random.choices(pairs,k=sample_size))\n",
    "trainBatchList = getBatchList(trainList, num_batches)\n",
    "model = transE(entity_total, relation_total, embedding_size)\n",
    "optimizer = optim.SGD(model.parameters(), lr=0.01) "
   ]
  },
  {
   "cell_type": "code",
   "execution_count": 1869,
   "metadata": {},
   "outputs": [
    {
     "data": {
      "text/plain": [
       "[(0, 0, 1),\n",
       " (1, 0, 2),\n",
       " (2, 0, 3),\n",
       " (3, 0, 4),\n",
       " (4, 0, 5),\n",
       " (5, 0, 6),\n",
       " (6, 0, 7),\n",
       " (7, 0, 8),\n",
       " (8, 0, 9)]"
      ]
     },
     "execution_count": 1869,
     "metadata": {},
     "output_type": "execute_result"
    }
   ],
   "source": [
    "pairs"
   ]
  },
  {
   "cell_type": "code",
   "execution_count": null,
   "metadata": {},
   "outputs": [],
   "source": []
  },
  {
   "cell_type": "code",
   "execution_count": 1151,
   "metadata": {},
   "outputs": [
    {
     "name": "stdout",
     "output_type": "stream",
     "text": [
      "Loss at epo 0: 30.896306924819946\n",
      "Loss at epo 10: 12.12\n",
      "Loss at epo 20: 12.74\n"
     ]
    }
   ],
   "source": [
    "# model and training\n",
    "num_epochs = 30\n",
    "Loss=[]\n",
    "for epo in range(num_epochs):\n",
    "    loss_val = 0\n",
    "    random.shuffle(trainBatchList)\n",
    "    for batchList in trainBatchList:\n",
    "        #\n",
    "        optimizer.zero_grad()\n",
    "        #\n",
    "        pos_h_batch, pos_r_batch, pos_t_batch,  neg_h_batch, neg_r_batch , neg_t_batch\\\n",
    "        = getBatch_raw_all(batchList)\n",
    "        pos_h_batch = Variable(torch.LongTensor(pos_h_batch))\n",
    "        pos_t_batch = Variable(torch.LongTensor(pos_t_batch))\n",
    "        pos_r_batch = Variable(torch.LongTensor(pos_r_batch))\n",
    "        neg_h_batch = Variable(torch.LongTensor(neg_h_batch))\n",
    "        neg_t_batch = Variable(torch.LongTensor(neg_t_batch))\n",
    "        neg_r_batch = Variable(torch.LongTensor(neg_r_batch))\n",
    "        pos, neg = model(pos_h_batch, pos_t_batch, pos_r_batch,\\\n",
    "                         neg_h_batch, neg_t_batch, neg_r_batch)\n",
    "        losses = marginLoss(pos, neg, 1)        \n",
    "        loss_val += losses.item()\n",
    "        losses.backward()\n",
    "        optimizer.step()\n",
    "        \n",
    "    \n",
    "    if epo % 10 == 0:    \n",
    "        print(f'Loss at epo {epo}: {loss_val/len(idx_pairs)}')\n",
    "    Loss.append(loss_val/len(idx_pairs))        "
   ]
  },
  {
   "cell_type": "code",
   "execution_count": 1152,
   "metadata": {},
   "outputs": [
    {
     "data": {
      "text/plain": [
       "Text(0,0.5,'Loss')"
      ]
     },
     "execution_count": 1152,
     "metadata": {},
     "output_type": "execute_result"
    },
    {
     "data": {
      "image/png": "[encoded data removed]",
      "text/plain": [
       "<Figure size 432x288 with 1 Axes>"
      ]
     },
     "metadata": {
      "needs_background": "light"
     },
     "output_type": "display_data"
    }
   ],
   "source": [
    "plt.plot(Loss,color='RoyalBlue',marker='o')\n",
    "plt.xlabel('N of epochs',fontsize=16)\n",
    "plt.ylabel('Loss',fontsize=16)"
   ]
  },
  {
   "cell_type": "code",
   "execution_count": 1189,
   "metadata": {},
   "outputs": [
    {
     "data": {
      "image/png": "[encoded data removed]",
      "text/plain": [
       "<Figure size 360x360 with 1 Axes>"
      ]
     },
     "metadata": {},
     "output_type": "display_data"
    }
   ],
   "source": [
    "posR=dict(zip(range(10),model.get_rE(Variable(torch.LongTensor([0]))).data.numpy()))\n",
    "posE=dict(zip(range(10),model.get_eE(Variable(torch.LongTensor(range(10)))).data.numpy()))\n",
    "#\n",
    "fig = plt.figure(figsize=(5, 5),facecolor='white')\n",
    "ax = fig.add_subplot(111)\n",
    "plt.title('Entity and relation',fontsize=16)\n",
    "#\n",
    "x,y=posR[0]\n",
    "plt.plot(0,0,'ro')\n",
    "plt.plot(x,y,'rx')\n",
    "plt.plot([0,x],[0,y],'r-')\n",
    "#\n",
    "for i in range(9):\n",
    "    x,y=posE[i]\n",
    "    x_new,y_new=posE[i]+posR[0]\n",
    "    plt.text(x,y,i,size=14,color='green')\n",
    "    plt.text(x_new,y_new,i+1,size=14,color='gray')\n",
    "    plt.plot([x,x_new],[y,y_new],color='gray')\n",
    "    \n",
    "x,y=posE[9]\n",
    "plt.text(x,y,9,size=14,color='green')\n",
    "#\n",
    "l=6\n",
    "plt.xlim(-l,l)\n",
    "plt.ylim(-l,l)\n",
    "#\n",
    "#\n",
    "plt.tight_layout()\n",
    "plt.show()"
   ]
  },
  {
   "cell_type": "markdown",
   "metadata": {},
   "source": [
    "# RNN"
   ]
  },
  {
   "cell_type": "code",
   "execution_count": 1637,
   "metadata": {},
   "outputs": [],
   "source": [
    "class EncoderRNN(nn.Module):\n",
    "    def __init__(self, input_size, hidden_size):\n",
    "        super(EncoderRNN, self).__init__()\n",
    "        self.hidden_size = hidden_size\n",
    "        self.embedding = nn.Embedding(input_size, hidden_size)\n",
    "        self.gru = nn.GRU(hidden_size, hidden_size)\n",
    "        self.out = nn.Linear(hidden_size, input_size)\n",
    "        self.softmax = nn.LogSoftmax(dim=1)\n",
    "        \n",
    "    def forward(self, input, hidden):\n",
    "        embedded = self.embedding(input).view(1, 1, -1)\n",
    "        output, hidden = self.gru(embedded, hidden)\n",
    "        output = self.out(output[0]) \n",
    "        output = self.softmax(output)\n",
    "        return output, hidden\n",
    "\n",
    "    def initHidden(self):\n",
    "        return torch.zeros(1, 1, self.hidden_size)\n",
    "    \n",
    "def oneHot(idx):\n",
    "    x = torch.zeros(10).float()\n",
    "    x[idx] = 1.0\n",
    "    return x\n",
    "\n",
    "def tensorsFromPair(pair):\n",
    "    input_tensor = torch.tensor(pair[0], dtype=torch.long).view(-1, 1)\n",
    "    target_tensor = torch.tensor(pair[1], dtype=torch.long).view(-1, 1)\n",
    "    return (input_tensor, target_tensor)"
   ]
  },
  {
   "cell_type": "code",
   "execution_count": 1780,
   "metadata": {},
   "outputs": [],
   "source": [
    "#order is compressed and passed from input sequence to output sequence\n",
    "\n",
    "class EncoderRNN_(nn.Module):\n",
    "    def __init__(self, input_size, hidden_size):\n",
    "        super(EncoderRNN_, self).__init__()\n",
    "        self.hidden_size = hidden_size\n",
    "        self.embedding = nn.Embedding(input_size, hidden_size)\n",
    "        self.gru = nn.GRU(hidden_size, hidden_size)\n",
    "\n",
    "    def forward(self, current_input_element_index, order):# here I call hidden \"order\" because it comressed the order of the input sequences\n",
    "        current_input_element_embedded = self.embedding(current_input_element_index).view(1, 1, -1)\n",
    "        current_input_element_wasted, compressed_order = self.gru(current_input_element_embedded, order)\n",
    "        return current_input_element_wasted, compressed_order\n",
    "\n",
    "    def initHidden(self):\n",
    "        return torch.zeros(1, 1, self.hidden_size)\n",
    "    \n",
    "class DecoderRNN_(nn.Module):\n",
    "    def __init__(self, hidden_size, output_size):\n",
    "        super(DecoderRNN_, self).__init__()\n",
    "        self.hidden_size = hidden_size\n",
    "        self.embedding = nn.Embedding(output_size, hidden_size)\n",
    "        self.gru = nn.GRU(hidden_size, hidden_size)\n",
    "        self.out = nn.Linear(hidden_size, output_size)\n",
    "        self.softmax = nn.LogSoftmax(dim=1)\n",
    "\n",
    "    def forward(self, last_output_element_index, order):# starting for SOS\n",
    "        last_output_element_embedded = self.embedding(last_output_element_index).view(1, 1, -1)\n",
    "        last_output_element_embedded = F.relu(last_output_element_embedded)#only keep positive\n",
    "        current_output_element_embedded, decompressed_order = self.gru(last_output_element_embedded, order)\n",
    "        current_output_element_predicted = self.softmax(self.out(current_output_element_embedded[0]))\n",
    "        return current_output_element_predicted, decompressed_order\n",
    "\n",
    "    def initHidden(self):\n",
    "        return torch.zeros(1, 1, self.hidden_size)"
   ]
  },
  {
   "cell_type": "code",
   "execution_count": 1863,
   "metadata": {},
   "outputs": [],
   "source": [
    "SOS_token = 0\n",
    "input_size, hidden_size, output_size=(10,2,10)# 0 is SOS, both input and output sequences starts from SOS\n",
    "n_iters = 100\n",
    "encoder = EncoderRNN_(input_size, hidden_size)\n",
    "decoder = DecoderRNN_(hidden_size, output_size)\n",
    "learning_rate = 0.05\n",
    "encoder_optimizer = optim.SGD(encoder.parameters(), lr=learning_rate)\n",
    "decoder_optimizer = optim.SGD(decoder.parameters(), lr=learning_rate)\n",
    "order = encoder.initHidden()\n",
    "criterion = nn.NLLLoss()\n",
    "#\n",
    "input_data=list(zip(range(1,9),range(2,10)))\n",
    "output_data=list(zip(range(10,90,10),range(20,100,10)))\n",
    "pairs= list(zip(input_data,output_data))\n",
    "outputToIndex={v:k for k,v in enumerate([0]+[i for i in range(10,100,10)])}\n",
    "inv_outputToIndex = {v: k for k, v in outputToIndex.items()}\n"
   ]
  },
  {
   "cell_type": "code",
   "execution_count": 1864,
   "metadata": {},
   "outputs": [
    {
     "data": {
      "text/plain": [
       "[((1, 2), (10, 20)),\n",
       " ((2, 3), (20, 30)),\n",
       " ((3, 4), (30, 40)),\n",
       " ((4, 5), (40, 50)),\n",
       " ((5, 6), (50, 60)),\n",
       " ((6, 7), (60, 70)),\n",
       " ((7, 8), (70, 80)),\n",
       " ((8, 9), (80, 90))]"
      ]
     },
     "execution_count": 1864,
     "metadata": {},
     "output_type": "execute_result"
    }
   ],
   "source": [
    "pairs"
   ]
  },
  {
   "cell_type": "code",
   "execution_count": 1865,
   "metadata": {},
   "outputs": [
    {
     "name": "stdout",
     "output_type": "stream",
     "text": [
      "0 0.37601627349853517\n",
      "50 0.29338452100753787\n",
      "100 0.21563535928726196\n",
      "150 0.1824878716468811\n"
     ]
    },
    {
     "ename": "KeyboardInterrupt",
     "evalue": "",
     "output_type": "error",
     "traceback": [
      "\u001b[0;31m---------------------------------------------------------------------------\u001b[0m",
      "\u001b[0;31mKeyboardInterrupt\u001b[0m                         Traceback (most recent call last)",
      "\u001b[0;32m<ipython-input-1865-4288ed94fba9>\u001b[0m in \u001b[0;36m<module>\u001b[0;34m()\u001b[0m\n\u001b[1;32m     22\u001b[0m             \u001b[0mloss\u001b[0m \u001b[0;34m+=\u001b[0m \u001b[0mcriterion\u001b[0m\u001b[0;34m(\u001b[0m\u001b[0mcurrent_output_element_predicted\u001b[0m\u001b[0;34m,\u001b[0m \u001b[0mtarget\u001b[0m\u001b[0;34m)\u001b[0m\u001b[0;34m\u001b[0m\u001b[0;34m\u001b[0m\u001b[0m\n\u001b[1;32m     23\u001b[0m \u001b[0;34m\u001b[0m\u001b[0m\n\u001b[0;32m---> 24\u001b[0;31m         \u001b[0mloss\u001b[0m\u001b[0;34m.\u001b[0m\u001b[0mbackward\u001b[0m\u001b[0;34m(\u001b[0m\u001b[0mretain_graph\u001b[0m\u001b[0;34m=\u001b[0m\u001b[0;32mTrue\u001b[0m\u001b[0;34m)\u001b[0m\u001b[0;34m\u001b[0m\u001b[0;34m\u001b[0m\u001b[0m\n\u001b[0m\u001b[1;32m     25\u001b[0m         \u001b[0mencoder_optimizer\u001b[0m\u001b[0;34m.\u001b[0m\u001b[0mstep\u001b[0m\u001b[0;34m(\u001b[0m\u001b[0;34m)\u001b[0m\u001b[0;34m\u001b[0m\u001b[0;34m\u001b[0m\u001b[0m\n\u001b[1;32m     26\u001b[0m         \u001b[0mdecoder_optimizer\u001b[0m\u001b[0;34m.\u001b[0m\u001b[0mstep\u001b[0m\u001b[0;34m(\u001b[0m\u001b[0;34m)\u001b[0m\u001b[0;34m\u001b[0m\u001b[0;34m\u001b[0m\u001b[0m\n",
      "\u001b[0;32m/anaconda3/lib/python3.7/site-packages/torch/tensor.py\u001b[0m in \u001b[0;36mbackward\u001b[0;34m(self, gradient, retain_graph, create_graph)\u001b[0m\n\u001b[1;32m    100\u001b[0m                 \u001b[0mproducts\u001b[0m\u001b[0;34m.\u001b[0m \u001b[0mDefaults\u001b[0m \u001b[0mto\u001b[0m\u001b[0;31m \u001b[0m\u001b[0;31m`\u001b[0m\u001b[0;31m`\u001b[0m\u001b[0;32mFalse\u001b[0m\u001b[0;31m`\u001b[0m\u001b[0;31m`\u001b[0m\u001b[0;34m.\u001b[0m\u001b[0;34m\u001b[0m\u001b[0;34m\u001b[0m\u001b[0m\n\u001b[1;32m    101\u001b[0m         \"\"\"\n\u001b[0;32m--> 102\u001b[0;31m         \u001b[0mtorch\u001b[0m\u001b[0;34m.\u001b[0m\u001b[0mautograd\u001b[0m\u001b[0;34m.\u001b[0m\u001b[0mbackward\u001b[0m\u001b[0;34m(\u001b[0m\u001b[0mself\u001b[0m\u001b[0;34m,\u001b[0m \u001b[0mgradient\u001b[0m\u001b[0;34m,\u001b[0m \u001b[0mretain_graph\u001b[0m\u001b[0;34m,\u001b[0m \u001b[0mcreate_graph\u001b[0m\u001b[0;34m)\u001b[0m\u001b[0;34m\u001b[0m\u001b[0;34m\u001b[0m\u001b[0m\n\u001b[0m\u001b[1;32m    103\u001b[0m \u001b[0;34m\u001b[0m\u001b[0m\n\u001b[1;32m    104\u001b[0m     \u001b[0;32mdef\u001b[0m \u001b[0mregister_hook\u001b[0m\u001b[0;34m(\u001b[0m\u001b[0mself\u001b[0m\u001b[0;34m,\u001b[0m \u001b[0mhook\u001b[0m\u001b[0;34m)\u001b[0m\u001b[0;34m:\u001b[0m\u001b[0;34m\u001b[0m\u001b[0;34m\u001b[0m\u001b[0m\n",
      "\u001b[0;32m/anaconda3/lib/python3.7/site-packages/torch/autograd/__init__.py\u001b[0m in \u001b[0;36mbackward\u001b[0;34m(tensors, grad_tensors, retain_graph, create_graph, grad_variables)\u001b[0m\n\u001b[1;32m     88\u001b[0m     Variable._execution_engine.run_backward(\n\u001b[1;32m     89\u001b[0m         \u001b[0mtensors\u001b[0m\u001b[0;34m,\u001b[0m \u001b[0mgrad_tensors\u001b[0m\u001b[0;34m,\u001b[0m \u001b[0mretain_graph\u001b[0m\u001b[0;34m,\u001b[0m \u001b[0mcreate_graph\u001b[0m\u001b[0;34m,\u001b[0m\u001b[0;34m\u001b[0m\u001b[0;34m\u001b[0m\u001b[0m\n\u001b[0;32m---> 90\u001b[0;31m         allow_unreachable=True)  # allow_unreachable flag\n\u001b[0m\u001b[1;32m     91\u001b[0m \u001b[0;34m\u001b[0m\u001b[0m\n\u001b[1;32m     92\u001b[0m \u001b[0;34m\u001b[0m\u001b[0m\n",
      "\u001b[0;31mKeyboardInterrupt\u001b[0m: "
     ]
    }
   ],
   "source": [
    "Loss=[]\n",
    "for epoch in range(500):\n",
    "    training_pairs = [tensorsFromPair(pair) for pair in pairs]\n",
    "    a=0\n",
    "    for input_tensor,target_tensor in training_pairs:\n",
    "        loss=0\n",
    "        encoder_optimizer.zero_grad()\n",
    "        decoder_optimizer.zero_grad()\n",
    "        input_length = input_tensor.size(0)\n",
    "        target_length = target_tensor.size(0)\n",
    "        \n",
    "        for ei in range(input_length):\n",
    "            current_input_element_wasted, order= encoder(input_tensor[ei], order)\n",
    "            \n",
    "        decoder_input = torch.tensor([[SOS_token]])\n",
    "        \n",
    "        for di in range(target_length):\n",
    "            current_output_element_predicted, order= decoder(decoder_input, order)\n",
    "            topv, topi = current_output_element_predicted.topk(1)\n",
    "            decoder_input = topi.squeeze().detach()  # detach from history as input\n",
    "            target=torch.tensor(outputToIndex[target_tensor[di].item()], dtype=torch.long).view(-1, 1)[0]\n",
    "            loss += criterion(current_output_element_predicted, target)\n",
    "\n",
    "        loss.backward(retain_graph=True)\n",
    "        encoder_optimizer.step()\n",
    "        decoder_optimizer.step()\n",
    "        a+=loss.item()\n",
    "        \n",
    "    Loss.append(a/n_iters)\n",
    "    if epoch%50==0:\n",
    "        print(epoch, a/n_iters)"
   ]
  },
  {
   "cell_type": "code",
   "execution_count": null,
   "metadata": {},
   "outputs": [],
   "source": []
  },
  {
   "cell_type": "code",
   "execution_count": 1866,
   "metadata": {},
   "outputs": [
    {
     "data": {
      "text/plain": [
       "Text(0,0.5,'Loss')"
      ]
     },
     "execution_count": 1866,
     "metadata": {},
     "output_type": "execute_result"
    },
    {
     "data": {
      "image/png": "[encoded data removed]",
      "text/plain": [
       "<Figure size 432x288 with 1 Axes>"
      ]
     },
     "metadata": {
      "needs_background": "light"
     },
     "output_type": "display_data"
    }
   ],
   "source": [
    "plt.plot(Loss,color='RoyalBlue',marker='o')\n",
    "plt.xlabel('N of epochs',fontsize=16)\n",
    "plt.ylabel('Loss',fontsize=16)"
   ]
  },
  {
   "cell_type": "code",
   "execution_count": 1867,
   "metadata": {},
   "outputs": [
    {
     "name": "stdout",
     "output_type": "stream",
     "text": [
      "(1, 2) (10, 20) predicted: [20, 20]\n",
      "(2, 3) (20, 30) predicted: [20, 30]\n",
      "(3, 4) (30, 40) predicted: [40, 40]\n",
      "(4, 5) (40, 50) predicted: [40, 40]\n",
      "(5, 6) (50, 60) predicted: [60, 60]\n",
      "(6, 7) (60, 70) predicted: [60, 60]\n",
      "(7, 8) (70, 80) predicted: [80, 80]\n",
      "(8, 9) (80, 90) predicted: [80, 80]\n"
     ]
    }
   ],
   "source": [
    "for k,v in pairs:\n",
    "    input_tensor,target_tensor=tensorsFromPair((k,v))\n",
    "    for ei in range(input_length):\n",
    "        current_input_element_wasted, order= encoder(input_tensor[ei], order)\n",
    "    decoder_input = torch.tensor([[SOS_token]])\n",
    "    predictates=[]\n",
    "    for di in range(2):\n",
    "        current_output_element_predicted, order= decoder(decoder_input, order)\n",
    "        topv, topi = current_output_element_predicted.topk(1)\n",
    "        predictates.append(inv_outputToIndex[topi.item()])\n",
    "        decoder_input = topi.squeeze().detach()  # detach from history as input\n",
    "    print(k,v,'predicted: '+str(predictates))"
   ]
  },
  {
   "cell_type": "code",
   "execution_count": null,
   "metadata": {},
   "outputs": [],
   "source": []
  },
  {
   "cell_type": "code",
   "execution_count": 1744,
   "metadata": {},
   "outputs": [],
   "source": [
    "input_size, hidden_size = 10, 2\n",
    "n_iters = 100\n",
    "encoder = EncoderRNN(input_size, hidden_size)\n",
    "learning_rate = 0.01\n",
    "encoder_optimizer = optim.SGD(encoder.parameters(), lr=learning_rate)\n",
    "encoder_hidden = encoder.initHidden()\n",
    "criterion = nn.NLLLoss()\n",
    "#\n",
    "input_data = list(zip(range(0,8),range(1,9)))\n",
    "output_data = list(range(2,10))\n",
    "pairs= list(zip(input_data,output_data))"
   ]
  },
  {
   "cell_type": "code",
   "execution_count": 1745,
   "metadata": {},
   "outputs": [
    {
     "name": "stdout",
     "output_type": "stream",
     "text": [
      "0 0.1898694694042206\n",
      "10 0.1862170648574829\n"
     ]
    },
    {
     "ename": "KeyboardInterrupt",
     "evalue": "",
     "output_type": "error",
     "traceback": [
      "\u001b[0;31m---------------------------------------------------------------------------\u001b[0m",
      "\u001b[0;31mKeyboardInterrupt\u001b[0m                         Traceback (most recent call last)",
      "\u001b[0;32m<ipython-input-1745-dbb414d7a552>\u001b[0m in \u001b[0;36m<module>\u001b[0;34m()\u001b[0m\n\u001b[1;32m     15\u001b[0m         \u001b[0mloss\u001b[0m \u001b[0;34m+=\u001b[0m \u001b[0mcriterion\u001b[0m\u001b[0;34m(\u001b[0m\u001b[0mencoder_output\u001b[0m\u001b[0;34m,\u001b[0m \u001b[0mtarget_tensor\u001b[0m\u001b[0;34m[\u001b[0m\u001b[0;36m0\u001b[0m\u001b[0;34m]\u001b[0m\u001b[0;34m)\u001b[0m\u001b[0;34m\u001b[0m\u001b[0;34m\u001b[0m\u001b[0m\n\u001b[1;32m     16\u001b[0m \u001b[0;34m\u001b[0m\u001b[0m\n\u001b[0;32m---> 17\u001b[0;31m         \u001b[0mloss\u001b[0m\u001b[0;34m.\u001b[0m\u001b[0mbackward\u001b[0m\u001b[0;34m(\u001b[0m\u001b[0mretain_graph\u001b[0m\u001b[0;34m=\u001b[0m\u001b[0;32mTrue\u001b[0m\u001b[0;34m)\u001b[0m\u001b[0;34m\u001b[0m\u001b[0;34m\u001b[0m\u001b[0m\n\u001b[0m\u001b[1;32m     18\u001b[0m         \u001b[0mencoder_optimizer\u001b[0m\u001b[0;34m.\u001b[0m\u001b[0mstep\u001b[0m\u001b[0;34m(\u001b[0m\u001b[0;34m)\u001b[0m\u001b[0;34m\u001b[0m\u001b[0;34m\u001b[0m\u001b[0m\n\u001b[1;32m     19\u001b[0m         \u001b[0ma\u001b[0m\u001b[0;34m+=\u001b[0m\u001b[0mloss\u001b[0m\u001b[0;34m.\u001b[0m\u001b[0mitem\u001b[0m\u001b[0;34m(\u001b[0m\u001b[0;34m)\u001b[0m\u001b[0;34m\u001b[0m\u001b[0;34m\u001b[0m\u001b[0m\n",
      "\u001b[0;32m/anaconda3/lib/python3.7/site-packages/torch/tensor.py\u001b[0m in \u001b[0;36mbackward\u001b[0;34m(self, gradient, retain_graph, create_graph)\u001b[0m\n\u001b[1;32m    100\u001b[0m                 \u001b[0mproducts\u001b[0m\u001b[0;34m.\u001b[0m \u001b[0mDefaults\u001b[0m \u001b[0mto\u001b[0m\u001b[0;31m \u001b[0m\u001b[0;31m`\u001b[0m\u001b[0;31m`\u001b[0m\u001b[0;32mFalse\u001b[0m\u001b[0;31m`\u001b[0m\u001b[0;31m`\u001b[0m\u001b[0;34m.\u001b[0m\u001b[0;34m\u001b[0m\u001b[0;34m\u001b[0m\u001b[0m\n\u001b[1;32m    101\u001b[0m         \"\"\"\n\u001b[0;32m--> 102\u001b[0;31m         \u001b[0mtorch\u001b[0m\u001b[0;34m.\u001b[0m\u001b[0mautograd\u001b[0m\u001b[0;34m.\u001b[0m\u001b[0mbackward\u001b[0m\u001b[0;34m(\u001b[0m\u001b[0mself\u001b[0m\u001b[0;34m,\u001b[0m \u001b[0mgradient\u001b[0m\u001b[0;34m,\u001b[0m \u001b[0mretain_graph\u001b[0m\u001b[0;34m,\u001b[0m \u001b[0mcreate_graph\u001b[0m\u001b[0;34m)\u001b[0m\u001b[0;34m\u001b[0m\u001b[0;34m\u001b[0m\u001b[0m\n\u001b[0m\u001b[1;32m    103\u001b[0m \u001b[0;34m\u001b[0m\u001b[0m\n\u001b[1;32m    104\u001b[0m     \u001b[0;32mdef\u001b[0m \u001b[0mregister_hook\u001b[0m\u001b[0;34m(\u001b[0m\u001b[0mself\u001b[0m\u001b[0;34m,\u001b[0m \u001b[0mhook\u001b[0m\u001b[0;34m)\u001b[0m\u001b[0;34m:\u001b[0m\u001b[0;34m\u001b[0m\u001b[0;34m\u001b[0m\u001b[0m\n",
      "\u001b[0;32m/anaconda3/lib/python3.7/site-packages/torch/autograd/__init__.py\u001b[0m in \u001b[0;36mbackward\u001b[0;34m(tensors, grad_tensors, retain_graph, create_graph, grad_variables)\u001b[0m\n\u001b[1;32m     88\u001b[0m     Variable._execution_engine.run_backward(\n\u001b[1;32m     89\u001b[0m         \u001b[0mtensors\u001b[0m\u001b[0;34m,\u001b[0m \u001b[0mgrad_tensors\u001b[0m\u001b[0;34m,\u001b[0m \u001b[0mretain_graph\u001b[0m\u001b[0;34m,\u001b[0m \u001b[0mcreate_graph\u001b[0m\u001b[0;34m,\u001b[0m\u001b[0;34m\u001b[0m\u001b[0;34m\u001b[0m\u001b[0m\n\u001b[0;32m---> 90\u001b[0;31m         allow_unreachable=True)  # allow_unreachable flag\n\u001b[0m\u001b[1;32m     91\u001b[0m \u001b[0;34m\u001b[0m\u001b[0m\n\u001b[1;32m     92\u001b[0m \u001b[0;34m\u001b[0m\u001b[0m\n",
      "\u001b[0;31mKeyboardInterrupt\u001b[0m: "
     ]
    }
   ],
   "source": [
    "Loss=[]\n",
    "for epoch in range(100):\n",
    "    training_pairs = [tensorsFromPair(pair) for pair in pairs]\n",
    "    a=0\n",
    "    for i in range(len(training_pairs)):\n",
    "        loss=0\n",
    "        training_pair = training_pairs[i]\n",
    "        input_tensor = training_pair[0]\n",
    "        target_tensor = training_pair[1]\n",
    "        encoder_optimizer.zero_grad()\n",
    "        input_length = input_tensor.size(0)\n",
    "        target_length = target_tensor.size(0)\n",
    "        for ei in range(input_length):\n",
    "            encoder_output, encoder_hidden = encoder(input_tensor[ei], encoder_hidden)\n",
    "        loss += criterion(encoder_output, target_tensor[0])\n",
    "\n",
    "        loss.backward(retain_graph=True)\n",
    "        encoder_optimizer.step()\n",
    "        a+=loss.item()\n",
    "    Loss.append(a/n_iters)\n",
    "    if epoch%10==0:\n",
    "        print(epoch, a/n_iters)"
   ]
  },
  {
   "cell_type": "code",
   "execution_count": 1609,
   "metadata": {},
   "outputs": [
    {
     "data": {
      "text/plain": [
       "Text(0,0.5,'Loss')"
      ]
     },
     "execution_count": 1609,
     "metadata": {},
     "output_type": "execute_result"
    },
    {
     "data": {
      "image/png": "[encoded data removed]",
      "text/plain": [
       "<Figure size 432x288 with 1 Axes>"
      ]
     },
     "metadata": {
      "needs_background": "light"
     },
     "output_type": "display_data"
    }
   ],
   "source": [
    "plt.plot(Loss,color='RoyalBlue',marker='o')\n",
    "plt.xlabel('N of epochs',fontsize=16)\n",
    "plt.ylabel('Loss',fontsize=16)"
   ]
  },
  {
   "cell_type": "code",
   "execution_count": 1610,
   "metadata": {},
   "outputs": [
    {
     "name": "stdout",
     "output_type": "stream",
     "text": [
      "(0, 1) 2 predicted: 3\n",
      "(1, 2) 3 predicted: 3\n",
      "(2, 3) 4 predicted: 3\n",
      "(3, 4) 5 predicted: 4\n",
      "(4, 5) 6 predicted: 4\n",
      "(5, 6) 7 predicted: 3\n",
      "(6, 7) 8 predicted: 3\n",
      "(7, 8) 9 predicted: 2\n"
     ]
    }
   ],
   "source": [
    "for k,v in pairs:\n",
    "    input_tensor,target_tensor=tensorsFromPair((k,v))\n",
    "    for ei in range(2):\n",
    "        encoder_output, encoder_hidden = encoder(input_tensor[ei], encoder_hidden)\n",
    "    print(k,target_tensor[0].item(),'predicted: '+str(encoder_output.topk(1)[1].item()))"
   ]
  },
  {
   "cell_type": "code",
   "execution_count": 1602,
   "metadata": {},
   "outputs": [
    {
     "data": {
      "image/png": "[encoded data removed]",
      "text/plain": [
       "<Figure size 576x288 with 1 Axes>"
      ]
     },
     "metadata": {},
     "output_type": "display_data"
    }
   ],
   "source": [
    "pos=dict(zip(range(10),encoder.out.weight.data.numpy()))\n",
    "fig = plt.figure(figsize=(8, 4),facecolor='white')\n",
    "ax = fig.add_subplot(121)\n",
    "for i in pos:\n",
    "    x,y=pos[i]\n",
    "    plt.plot(x,y,marker='o',color='r')\n",
    "    plt.text(x,y,i,size=14,color='r')"
   ]
  },
  {
   "cell_type": "code",
   "execution_count": null,
   "metadata": {},
   "outputs": [],
   "source": []
  }
 ],
 "metadata": {
  "kernelspec": {
   "display_name": "Python [conda env:anaconda]",
   "language": "python",
   "name": "conda-env-anaconda-py"
  },
  "language_info": {
   "codemirror_mode": {
    "name": "ipython",
    "version": 3
   },
   "file_extension": ".py",
   "mimetype": "text/x-python",
   "name": "python",
   "nbconvert_exporter": "python",
   "pygments_lexer": "ipython3",
   "version": "3.5.4"
  },
  "latex_envs": {
   "LaTeX_envs_menu_present": true,
   "autoclose": false,
   "autocomplete": true,
   "bibliofile": "biblio.bib",
   "cite_by": "apalike",
   "current_citInitial": 1,
   "eqLabelWithNumbers": true,
   "eqNumInitial": 1,
   "hotkeys": {
    "equation": "Ctrl-E",
    "itemize": "Ctrl-I"
   },
   "labels_anchors": false,
   "latex_user_defs": false,
   "report_style_numbering": false,
   "user_envs_cfg": false
  },
  "toc": {
   "base_numbering": 1,
   "nav_menu": {},
   "number_sections": false,
   "sideBar": true,
   "skip_h1_title": false,
   "title_cell": "Table of Contents",
   "title_sidebar": "Contents",
   "toc_cell": false,
   "toc_position": {},
   "toc_section_display": true,
   "toc_window_display": false
  }
 },
 "nbformat": 4,
 "nbformat_minor": 2
}
