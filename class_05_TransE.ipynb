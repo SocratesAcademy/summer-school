{
 "cells": [
  {
   "cell_type": "markdown",
   "metadata": {
    "slideshow": {
     "slide_type": "slide"
    }
   },
   "source": [
    "# TransE"
   ]
  },
  {
   "cell_type": "markdown",
   "metadata": {
    "slideshow": {
     "slide_type": "subslide"
    }
   },
   "source": [
    "\n",
    "#### for word2vec:\n",
    "https://towardsdatascience.com/implementing-word2vec-in-pytorch-skip-gram-model-e6bae040d2fb\n",
    "#### for transD:\n",
    "https://github.com/jimmywangheng/knowledge_representation_pytorch/\n",
    "#### for RNN:\n",
    "https://pytorch.org/tutorials/intermediate/seq2seq_translation_tutorial.html"
   ]
  },
  {
   "cell_type": "code",
   "execution_count": 1,
   "metadata": {
    "ExecuteTime": {
     "end_time": "2019-07-06T08:02:43.660498Z",
     "start_time": "2019-07-06T08:02:42.927604Z"
    },
    "slideshow": {
     "slide_type": "slide"
    }
   },
   "outputs": [],
   "source": [
    "from collections import defaultdict, Counter\n",
    "import networkx as nx\n",
    "import numpy as np\n",
    "import pylab as plt\n",
    "import random\n",
    "import torch\n",
    "import torch.nn as nn\n",
    "from copy import deepcopy\n",
    "from torch import optim\n",
    "import torch.nn.functional as F\n",
    "from torch.autograd import Variable\n"
   ]
  },
  {
   "cell_type": "code",
   "execution_count": 2,
   "metadata": {
    "ExecuteTime": {
     "end_time": "2019-07-06T08:02:44.850688Z",
     "start_time": "2019-07-06T08:02:44.843279Z"
    },
    "slideshow": {
     "slide_type": "subslide"
    }
   },
   "outputs": [],
   "source": [
    "def marginLoss(pos, neg, margin):\n",
    "    return torch.sum(torch.max(pos - neg + margin, torch.zeros(pos.size())))\n",
    "\n",
    "def getBatchList(tripleList, num_batches):\n",
    "    l = len(tripleList) // num_batches # batch_size\n",
    "    v = []\n",
    "    for i in range(num_batches-1):\n",
    "        v.append(tripleList[l*i:l*(i+1)])\n",
    "    v.append(tripleList[l*(num_batches-1):])\n",
    "    return v\n",
    "\n",
    "def getBatch_raw_all(tripleList):\n",
    "    ph, pt ,pr = np.array(tripleList).T\n",
    "    k=int(len(tripleList)/2)\n",
    "    newTripleList=deepcopy(tripleList)\n",
    "    np.random.shuffle(newTripleList[:k,0])# corrupt head/tail for half of data\n",
    "    np.random.shuffle(newTripleList[k:,-1])\n",
    "    nh, nt, nr = np.array(newTripleList).T\n",
    "    return ph, pt, pr, nh, nt, nr"
   ]
  },
  {
   "cell_type": "code",
   "execution_count": 3,
   "metadata": {
    "ExecuteTime": {
     "end_time": "2019-07-06T08:02:45.612015Z",
     "start_time": "2019-07-06T08:02:45.604552Z"
    },
    "slideshow": {
     "slide_type": "slide"
    }
   },
   "outputs": [],
   "source": [
    "class transE(nn.Module):\n",
    "\n",
    "    def __init__(self, entity_total, relation_total, embedding_size):\n",
    "        super(transE, self).__init__()\n",
    "        \n",
    "        self.eE = nn.Embedding(entity_total, embedding_size) #embed entities\n",
    "        self.rE = nn.Embedding(relation_total, embedding_size) #embed relation(s)\n",
    "\n",
    "    def forward(self, pos_h, pos_t, pos_r, neg_h, neg_t, neg_r):\n",
    "        \n",
    "        pos_h_e = self.eE(pos_h)\n",
    "        pos_t_e = self.eE(pos_t)\n",
    "        pos_r_e = self.rE(pos_r)\n",
    "        neg_h_e = self.eE(neg_h)\n",
    "        neg_t_e = self.eE(neg_t)\n",
    "        neg_r_e = self.rE(neg_r)\n",
    "        \n",
    "        pos = torch.sum((pos_h_e + pos_r_e - pos_t_e) ** 2, 1)\n",
    "        neg = torch.sum((neg_h_e + neg_r_e - neg_t_e) ** 2, 1)\n",
    "        return pos, neg\n",
    "    \n",
    "    def get_eE(self, inputs):\n",
    "        return self.eE(inputs)\n",
    "\n",
    "    def get_rE(self, inputs):\n",
    "        return self.rE(inputs)\n",
    "    "
   ]
  },
  {
   "cell_type": "code",
   "execution_count": 6,
   "metadata": {
    "ExecuteTime": {
     "end_time": "2019-07-06T08:02:53.670816Z",
     "start_time": "2019-07-06T08:02:53.658960Z"
    },
    "slideshow": {
     "slide_type": "subslide"
    }
   },
   "outputs": [],
   "source": [
    "# parameters\n",
    "num_batches=100\n",
    "embedding_size=2\n",
    "entity_total=10\n",
    "relation_total=1\n",
    "sample_size = 10000\n",
    "pairs=list(zip(range(9),[0]*10,range(1,10)))\n",
    "trainList=np.array(random.choices(pairs,k=sample_size))\n",
    "trainBatchList = getBatchList(trainList, num_batches)\n",
    "model = transE(entity_total, relation_total, embedding_size)\n",
    "optimizer = optim.SGD(model.parameters(), lr=0.01) "
   ]
  },
  {
   "cell_type": "code",
   "execution_count": 11,
   "metadata": {
    "ExecuteTime": {
     "end_time": "2019-07-06T08:10:16.372770Z",
     "start_time": "2019-07-06T08:10:16.369021Z"
    },
    "slideshow": {
     "slide_type": "subslide"
    }
   },
   "outputs": [
    {
     "data": {
      "text/plain": [
       "100"
      ]
     },
     "execution_count": 11,
     "metadata": {},
     "output_type": "execute_result"
    }
   ],
   "source": [
    "len(trainBatchList)"
   ]
  },
  {
   "cell_type": "code",
   "execution_count": 8,
   "metadata": {
    "ExecuteTime": {
     "end_time": "2019-07-06T08:03:00.770272Z",
     "start_time": "2019-07-06T08:03:00.765162Z"
    },
    "slideshow": {
     "slide_type": "subslide"
    }
   },
   "outputs": [
    {
     "data": {
      "text/plain": [
       "[(0, 0, 1),\n",
       " (1, 0, 2),\n",
       " (2, 0, 3),\n",
       " (3, 0, 4),\n",
       " (4, 0, 5),\n",
       " (5, 0, 6),\n",
       " (6, 0, 7),\n",
       " (7, 0, 8),\n",
       " (8, 0, 9)]"
      ]
     },
     "execution_count": 8,
     "metadata": {},
     "output_type": "execute_result"
    }
   ],
   "source": [
    "pairs"
   ]
  },
  {
   "cell_type": "code",
   "execution_count": 12,
   "metadata": {
    "ExecuteTime": {
     "end_time": "2019-07-06T08:10:36.406180Z",
     "start_time": "2019-07-06T08:10:30.048137Z"
    },
    "slideshow": {
     "slide_type": "slide"
    }
   },
   "outputs": [
    {
     "name": "stdout",
     "output_type": "stream",
     "text": [
      "Loss at epo 0: 19.019951581954956\n",
      "Loss at epo 10: 12.78\n",
      "Loss at epo 20: 12.06\n"
     ]
    }
   ],
   "source": [
    "# model and training\n",
    "num_epochs = 30\n",
    "Loss=[]\n",
    "for epo in range(num_epochs):\n",
    "    loss_val = 0\n",
    "    random.shuffle(trainBatchList)\n",
    "    for batchList in trainBatchList:\n",
    "        #\n",
    "        optimizer.zero_grad()\n",
    "        #\n",
    "        pos_h_batch, pos_r_batch, pos_t_batch,  neg_h_batch, neg_r_batch , neg_t_batch\\\n",
    "        = getBatch_raw_all(batchList)\n",
    "        pos_h_batch = Variable(torch.LongTensor(pos_h_batch))\n",
    "        pos_t_batch = Variable(torch.LongTensor(pos_t_batch))\n",
    "        pos_r_batch = Variable(torch.LongTensor(pos_r_batch))\n",
    "        neg_h_batch = Variable(torch.LongTensor(neg_h_batch))\n",
    "        neg_t_batch = Variable(torch.LongTensor(neg_t_batch))\n",
    "        neg_r_batch = Variable(torch.LongTensor(neg_r_batch))\n",
    "        pos, neg = model(pos_h_batch, pos_t_batch, pos_r_batch,\\\n",
    "                         neg_h_batch, neg_t_batch, neg_r_batch)\n",
    "        losses = marginLoss(pos, neg, 1)        \n",
    "        loss_val += losses.item()\n",
    "        losses.backward()\n",
    "        optimizer.step()\n",
    "        \n",
    "    \n",
    "    if epo % 10 == 0:    \n",
    "        print(f'Loss at epo {epo}: {loss_val/len(trainBatchList)}')\n",
    "    Loss.append(loss_val/len(trainBatchList))        "
   ]
  },
  {
   "cell_type": "code",
   "execution_count": 13,
   "metadata": {
    "ExecuteTime": {
     "end_time": "2019-07-06T08:10:38.646967Z",
     "start_time": "2019-07-06T08:10:38.496672Z"
    },
    "slideshow": {
     "slide_type": "slide"
    }
   },
   "outputs": [
    {
     "data": {
      "text/plain": [
       "Text(0, 0.5, 'Loss')"
      ]
     },
     "execution_count": 13,
     "metadata": {},
     "output_type": "execute_result"
    },
    {
     "data": {
      "image/png": "[encoded data removed]",
      "text/plain": [
       "<Figure size 432x288 with 1 Axes>"
      ]
     },
     "metadata": {
      "needs_background": "light"
     },
     "output_type": "display_data"
    }
   ],
   "source": [
    "plt.plot(Loss,color='RoyalBlue',marker='o')\n",
    "plt.xlabel('N of epochs',fontsize=16)\n",
    "plt.ylabel('Loss',fontsize=16)"
   ]
  },
  {
   "cell_type": "code",
   "execution_count": 14,
   "metadata": {
    "ExecuteTime": {
     "end_time": "2019-07-06T08:10:46.467134Z",
     "start_time": "2019-07-06T08:10:46.284506Z"
    },
    "slideshow": {
     "slide_type": "slide"
    }
   },
   "outputs": [
    {
     "data": {
      "image/png": "[encoded data removed]",
      "text/plain": [
       "<Figure size 360x360 with 1 Axes>"
      ]
     },
     "metadata": {},
     "output_type": "display_data"
    }
   ],
   "source": [
    "posR=dict(zip(range(10),model.get_rE(Variable(torch.LongTensor([0]))).data.numpy()))\n",
    "posE=dict(zip(range(10),model.get_eE(Variable(torch.LongTensor(range(10)))).data.numpy()))\n",
    "#\n",
    "fig = plt.figure(figsize=(5, 5),facecolor='white')\n",
    "ax = fig.add_subplot(111)\n",
    "plt.title('Entity and relation',fontsize=16)\n",
    "#\n",
    "x,y=posR[0]\n",
    "plt.plot(0,0,'ro')\n",
    "plt.plot(x,y,'rx')\n",
    "plt.plot([0,x],[0,y],'r-')\n",
    "#\n",
    "for i in range(9):\n",
    "    x,y=posE[i]\n",
    "    x_new,y_new=posE[i]+posR[0]\n",
    "    plt.text(x,y,i,size=14,color='green')\n",
    "    plt.text(x_new,y_new,i+1,size=14,color='gray')\n",
    "    plt.plot([x,x_new],[y,y_new],color='gray')\n",
    "    \n",
    "x,y=posE[9]\n",
    "plt.text(x,y,9,size=14,color='green')\n",
    "#\n",
    "l=6\n",
    "plt.xlim(-l,l)\n",
    "plt.ylim(-l,l)\n",
    "#\n",
    "#\n",
    "plt.tight_layout()\n",
    "plt.show()"
   ]
  },
  {
   "cell_type": "code",
   "execution_count": null,
   "metadata": {},
   "outputs": [],
   "source": []
  }
 ],
 "metadata": {
  "celltoolbar": "Slideshow",
  "kernelspec": {
   "display_name": "Python 3",
   "language": "python",
   "name": "python3"
  },
  "language_info": {
   "codemirror_mode": {
    "name": "ipython",
    "version": 3
   },
   "file_extension": ".py",
   "mimetype": "text/x-python",
   "name": "python",
   "nbconvert_exporter": "python",
   "pygments_lexer": "ipython3",
   "version": "3.7.3"
  },
  "latex_envs": {
   "LaTeX_envs_menu_present": true,
   "autoclose": false,
   "autocomplete": true,
   "bibliofile": "biblio.bib",
   "cite_by": "apalike",
   "current_citInitial": 1,
   "eqLabelWithNumbers": true,
   "eqNumInitial": 1,
   "hotkeys": {
    "equation": "Ctrl-E",
    "itemize": "Ctrl-I"
   },
   "labels_anchors": false,
   "latex_user_defs": false,
   "report_style_numbering": false,
   "user_envs_cfg": false
  },
  "toc": {
   "base_numbering": 1,
   "nav_menu": {},
   "number_sections": false,
   "sideBar": true,
   "skip_h1_title": false,
   "title_cell": "Table of Contents",
   "title_sidebar": "Contents",
   "toc_cell": false,
   "toc_position": {},
   "toc_section_display": true,
   "toc_window_display": false
  }
 },
 "nbformat": 4,
 "nbformat_minor": 2
}
