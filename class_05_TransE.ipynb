{
 "cells": [
  {
   "cell_type": "markdown",
   "metadata": {},
   "source": [
    "# for word2vec:\n",
    "https://towardsdatascience.com/implementing-word2vec-in-pytorch-skip-gram-model-e6bae040d2fb\n",
    "# for transD:\n",
    "https://github.com/jimmywangheng/knowledge_representation_pytorch/\n",
    "# for RNN:\n",
    "https://pytorch.org/tutorials/intermediate/seq2seq_translation_tutorial.html"
   ]
  },
  {
   "cell_type": "code",
   "execution_count": 39,
   "metadata": {
    "ExecuteTime": {
     "end_time": "2019-07-06T06:40:52.324455Z",
     "start_time": "2019-07-06T06:40:52.316861Z"
    }
   },
   "outputs": [],
   "source": [
    "from collections import defaultdict, Counter\n",
    "import networkx as nx\n",
    "import numpy as np\n",
    "import pylab as plt\n",
    "import random\n",
    "import torch\n",
    "import torch.nn as nn\n",
    "from copy import deepcopy\n",
    "from torch import optim\n",
    "import torch.nn.functional as F\n",
    "from torch.autograd import Variable\n"
   ]
  },
  {
   "cell_type": "markdown",
   "metadata": {},
   "source": [
    "# TransE"
   ]
  },
  {
   "cell_type": "code",
   "execution_count": 40,
   "metadata": {
    "ExecuteTime": {
     "end_time": "2019-07-06T06:40:53.649725Z",
     "start_time": "2019-07-06T06:40:53.619687Z"
    }
   },
   "outputs": [],
   "source": [
    "def marginLoss(pos, neg, margin):\n",
    "    return torch.sum(torch.max(pos - neg + margin, torch.zeros(pos.size())))\n",
    "\n",
    "def getBatchList(tripleList, num_batches):\n",
    "    l = len(tripleList) // num_batches # batch_size\n",
    "    v = []\n",
    "    for i in range(num_batches-1):\n",
    "        v.append(tripleList[l*i:l*(i+1)])\n",
    "    v.append(tripleList[l*(num_batches-1):])\n",
    "    return v\n",
    "\n",
    "def getBatch_raw_all(tripleList):\n",
    "    ph, pt ,pr = np.array(tripleList).T\n",
    "    k=int(len(tripleList)/2)\n",
    "    newTripleList=deepcopy(tripleList)\n",
    "    np.random.shuffle(newTripleList[:k,0])# corrupt head/tail for half of data\n",
    "    np.random.shuffle(newTripleList[k:,-1])\n",
    "    nh, nt, nr = np.array(newTripleList).T\n",
    "    return ph, pt, pr, nh, nt, nr"
   ]
  },
  {
   "cell_type": "code",
   "execution_count": 41,
   "metadata": {
    "ExecuteTime": {
     "end_time": "2019-07-06T06:40:54.492170Z",
     "start_time": "2019-07-06T06:40:54.449586Z"
    }
   },
   "outputs": [],
   "source": [
    "class transE(nn.Module):\n",
    "\n",
    "    def __init__(self, entity_total, relation_total, embedding_size):\n",
    "        super(transE, self).__init__()\n",
    "        \n",
    "        self.eE = nn.Embedding(entity_total, embedding_size) #embed entities\n",
    "        self.rE = nn.Embedding(relation_total, embedding_size) #embed relation(s)\n",
    "\n",
    "    def forward(self, pos_h, pos_t, pos_r, neg_h, neg_t, neg_r):\n",
    "        \n",
    "        pos_h_e = self.eE(pos_h)\n",
    "        pos_t_e = self.eE(pos_t)\n",
    "        pos_r_e = self.rE(pos_r)\n",
    "        neg_h_e = self.eE(neg_h)\n",
    "        neg_t_e = self.eE(neg_t)\n",
    "        neg_r_e = self.rE(neg_r)\n",
    "        \n",
    "        pos = torch.sum((pos_h_e + pos_r_e - pos_t_e) ** 2, 1)\n",
    "        neg = torch.sum((neg_h_e + neg_r_e - neg_t_e) ** 2, 1)\n",
    "        return pos, neg\n",
    "    \n",
    "    def get_eE(self, inputs):\n",
    "        return self.eE(inputs)\n",
    "\n",
    "    def get_rE(self, inputs):\n",
    "        return self.rE(inputs)\n",
    "    "
   ]
  },
  {
   "cell_type": "code",
   "execution_count": 42,
   "metadata": {
    "ExecuteTime": {
     "end_time": "2019-07-06T06:40:55.219736Z",
     "start_time": "2019-07-06T06:40:55.214236Z"
    }
   },
   "outputs": [
    {
     "data": {
      "text/plain": [
       "[(0, 0, 1),\n",
       " (1, 0, 2),\n",
       " (2, 0, 3),\n",
       " (3, 0, 4),\n",
       " (4, 0, 5),\n",
       " (5, 0, 6),\n",
       " (6, 0, 7),\n",
       " (7, 0, 8),\n",
       " (8, 0, 9)]"
      ]
     },
     "execution_count": 42,
     "metadata": {},
     "output_type": "execute_result"
    }
   ],
   "source": [
    "pairs"
   ]
  },
  {
   "cell_type": "code",
   "execution_count": 43,
   "metadata": {
    "ExecuteTime": {
     "end_time": "2019-07-06T06:40:56.058928Z",
     "start_time": "2019-07-06T06:40:56.047822Z"
    }
   },
   "outputs": [
    {
     "ename": "ImportError",
     "evalue": "cannot import name 'choices'",
     "output_type": "error",
     "traceback": [
      "\u001b[0;31m---------------------------------------------------------------------------\u001b[0m",
      "\u001b[0;31mImportError\u001b[0m                               Traceback (most recent call last)",
      "\u001b[0;32m<ipython-input-43-27f45bec97ad>\u001b[0m in \u001b[0;36m<module>\u001b[0;34m()\u001b[0m\n\u001b[0;32m----> 1\u001b[0;31m \u001b[0;32mfrom\u001b[0m \u001b[0mrandom\u001b[0m \u001b[0;32mimport\u001b[0m \u001b[0mchoices\u001b[0m\u001b[0;34m\u001b[0m\u001b[0m\n\u001b[0m",
      "\u001b[0;31mImportError\u001b[0m: cannot import name 'choices'"
     ]
    }
   ],
   "source": [
    "from random import choices\n"
   ]
  },
  {
   "cell_type": "code",
   "execution_count": 44,
   "metadata": {
    "ExecuteTime": {
     "end_time": "2019-07-06T06:40:57.114907Z",
     "start_time": "2019-07-06T06:40:57.096346Z"
    }
   },
   "outputs": [
    {
     "ename": "AttributeError",
     "evalue": "module 'random' has no attribute 'choices'",
     "output_type": "error",
     "traceback": [
      "\u001b[0;31m---------------------------------------------------------------------------\u001b[0m",
      "\u001b[0;31mAttributeError\u001b[0m                            Traceback (most recent call last)",
      "\u001b[0;32m<ipython-input-44-60fe59949958>\u001b[0m in \u001b[0;36m<module>\u001b[0;34m()\u001b[0m\n\u001b[1;32m      6\u001b[0m \u001b[0msample_size\u001b[0m \u001b[0;34m=\u001b[0m \u001b[0;36m10000\u001b[0m\u001b[0;34m\u001b[0m\u001b[0m\n\u001b[1;32m      7\u001b[0m \u001b[0mpairs\u001b[0m\u001b[0;34m=\u001b[0m\u001b[0mlist\u001b[0m\u001b[0;34m(\u001b[0m\u001b[0mzip\u001b[0m\u001b[0;34m(\u001b[0m\u001b[0mrange\u001b[0m\u001b[0;34m(\u001b[0m\u001b[0;36m9\u001b[0m\u001b[0;34m)\u001b[0m\u001b[0;34m,\u001b[0m\u001b[0;34m[\u001b[0m\u001b[0;36m0\u001b[0m\u001b[0;34m]\u001b[0m\u001b[0;34m*\u001b[0m\u001b[0;36m10\u001b[0m\u001b[0;34m,\u001b[0m\u001b[0mrange\u001b[0m\u001b[0;34m(\u001b[0m\u001b[0;36m1\u001b[0m\u001b[0;34m,\u001b[0m\u001b[0;36m10\u001b[0m\u001b[0;34m)\u001b[0m\u001b[0;34m)\u001b[0m\u001b[0;34m)\u001b[0m\u001b[0;34m\u001b[0m\u001b[0m\n\u001b[0;32m----> 8\u001b[0;31m \u001b[0mtrainList\u001b[0m\u001b[0;34m=\u001b[0m\u001b[0mnp\u001b[0m\u001b[0;34m.\u001b[0m\u001b[0marray\u001b[0m\u001b[0;34m(\u001b[0m\u001b[0mrandom\u001b[0m\u001b[0;34m.\u001b[0m\u001b[0mchoices\u001b[0m\u001b[0;34m(\u001b[0m\u001b[0mpairs\u001b[0m\u001b[0;34m,\u001b[0m\u001b[0mk\u001b[0m\u001b[0;34m=\u001b[0m\u001b[0msample_size\u001b[0m\u001b[0;34m)\u001b[0m\u001b[0;34m)\u001b[0m\u001b[0;34m\u001b[0m\u001b[0m\n\u001b[0m\u001b[1;32m      9\u001b[0m \u001b[0mtrainBatchList\u001b[0m \u001b[0;34m=\u001b[0m \u001b[0mgetBatchList\u001b[0m\u001b[0;34m(\u001b[0m\u001b[0mtrainList\u001b[0m\u001b[0;34m,\u001b[0m \u001b[0mnum_batches\u001b[0m\u001b[0;34m)\u001b[0m\u001b[0;34m\u001b[0m\u001b[0m\n\u001b[1;32m     10\u001b[0m \u001b[0mmodel\u001b[0m \u001b[0;34m=\u001b[0m \u001b[0mtransE\u001b[0m\u001b[0;34m(\u001b[0m\u001b[0mentity_total\u001b[0m\u001b[0;34m,\u001b[0m \u001b[0mrelation_total\u001b[0m\u001b[0;34m,\u001b[0m \u001b[0membedding_size\u001b[0m\u001b[0;34m)\u001b[0m\u001b[0;34m\u001b[0m\u001b[0m\n",
      "\u001b[0;31mAttributeError\u001b[0m: module 'random' has no attribute 'choices'"
     ]
    }
   ],
   "source": [
    "# parameters\n",
    "num_batches=100\n",
    "embedding_size=2\n",
    "entity_total=10\n",
    "relation_total=1\n",
    "sample_size = 10000\n",
    "pairs=list(zip(range(9),[0]*10,range(1,10)))\n",
    "trainList=np.array(random.choices(pairs,k=sample_size))\n",
    "trainBatchList = getBatchList(trainList, num_batches)\n",
    "model = transE(entity_total, relation_total, embedding_size)\n",
    "optimizer = optim.SGD(model.parameters(), lr=0.01) "
   ]
  },
  {
   "cell_type": "code",
   "execution_count": 23,
   "metadata": {
    "ExecuteTime": {
     "end_time": "2019-07-06T03:29:01.279234Z",
     "start_time": "2019-07-06T03:29:01.266490Z"
    }
   },
   "outputs": [
    {
     "ename": "AttributeError",
     "evalue": "module 'random' has no attribute 'choices'",
     "output_type": "error",
     "traceback": [
      "\u001b[0;31m---------------------------------------------------------------------------\u001b[0m",
      "\u001b[0;31mAttributeError\u001b[0m                            Traceback (most recent call last)",
      "\u001b[0;32m<ipython-input-23-e24a1c514f4a>\u001b[0m in \u001b[0;36m<module>\u001b[0;34m()\u001b[0m\n\u001b[0;32m----> 1\u001b[0;31m \u001b[0mrandom\u001b[0m\u001b[0;34m.\u001b[0m\u001b[0mchoices\u001b[0m\u001b[0;34m(\u001b[0m\u001b[0;34m)\u001b[0m\u001b[0;34m\u001b[0m\u001b[0m\n\u001b[0m",
      "\u001b[0;31mAttributeError\u001b[0m: module 'random' has no attribute 'choices'"
     ]
    }
   ],
   "source": [
    "random.choices()"
   ]
  },
  {
   "cell_type": "code",
   "execution_count": 1869,
   "metadata": {},
   "outputs": [
    {
     "data": {
      "text/plain": [
       "[(0, 0, 1),\n",
       " (1, 0, 2),\n",
       " (2, 0, 3),\n",
       " (3, 0, 4),\n",
       " (4, 0, 5),\n",
       " (5, 0, 6),\n",
       " (6, 0, 7),\n",
       " (7, 0, 8),\n",
       " (8, 0, 9)]"
      ]
     },
     "execution_count": 1869,
     "metadata": {},
     "output_type": "execute_result"
    }
   ],
   "source": [
    "pairs"
   ]
  },
  {
   "cell_type": "code",
   "execution_count": null,
   "metadata": {},
   "outputs": [],
   "source": []
  },
  {
   "cell_type": "code",
   "execution_count": 1151,
   "metadata": {},
   "outputs": [
    {
     "name": "stdout",
     "output_type": "stream",
     "text": [
      "Loss at epo 0: 30.896306924819946\n",
      "Loss at epo 10: 12.12\n",
      "Loss at epo 20: 12.74\n"
     ]
    }
   ],
   "source": [
    "# model and training\n",
    "num_epochs = 30\n",
    "Loss=[]\n",
    "for epo in range(num_epochs):\n",
    "    loss_val = 0\n",
    "    random.shuffle(trainBatchList)\n",
    "    for batchList in trainBatchList:\n",
    "        #\n",
    "        optimizer.zero_grad()\n",
    "        #\n",
    "        pos_h_batch, pos_r_batch, pos_t_batch,  neg_h_batch, neg_r_batch , neg_t_batch\\\n",
    "        = getBatch_raw_all(batchList)\n",
    "        pos_h_batch = Variable(torch.LongTensor(pos_h_batch))\n",
    "        pos_t_batch = Variable(torch.LongTensor(pos_t_batch))\n",
    "        pos_r_batch = Variable(torch.LongTensor(pos_r_batch))\n",
    "        neg_h_batch = Variable(torch.LongTensor(neg_h_batch))\n",
    "        neg_t_batch = Variable(torch.LongTensor(neg_t_batch))\n",
    "        neg_r_batch = Variable(torch.LongTensor(neg_r_batch))\n",
    "        pos, neg = model(pos_h_batch, pos_t_batch, pos_r_batch,\\\n",
    "                         neg_h_batch, neg_t_batch, neg_r_batch)\n",
    "        losses = marginLoss(pos, neg, 1)        \n",
    "        loss_val += losses.item()\n",
    "        losses.backward()\n",
    "        optimizer.step()\n",
    "        \n",
    "    \n",
    "    if epo % 10 == 0:    \n",
    "        print(f'Loss at epo {epo}: {loss_val/len(idx_pairs)}')\n",
    "    Loss.append(loss_val/len(idx_pairs))        "
   ]
  },
  {
   "cell_type": "code",
   "execution_count": 1152,
   "metadata": {},
   "outputs": [
    {
     "data": {
      "text/plain": [
       "Text(0,0.5,'Loss')"
      ]
     },
     "execution_count": 1152,
     "metadata": {},
     "output_type": "execute_result"
    },
    {
     "data": {
      "image/png": "[encoded data removed]",
      "text/plain": [
       "<Figure size 432x288 with 1 Axes>"
      ]
     },
     "metadata": {
      "needs_background": "light"
     },
     "output_type": "display_data"
    }
   ],
   "source": [
    "plt.plot(Loss,color='RoyalBlue',marker='o')\n",
    "plt.xlabel('N of epochs',fontsize=16)\n",
    "plt.ylabel('Loss',fontsize=16)"
   ]
  },
  {
   "cell_type": "code",
   "execution_count": 1189,
   "metadata": {},
   "outputs": [
    {
     "data": {
      "image/png": "[encoded data removed]",
      "text/plain": [
       "<Figure size 360x360 with 1 Axes>"
      ]
     },
     "metadata": {},
     "output_type": "display_data"
    }
   ],
   "source": [
    "posR=dict(zip(range(10),model.get_rE(Variable(torch.LongTensor([0]))).data.numpy()))\n",
    "posE=dict(zip(range(10),model.get_eE(Variable(torch.LongTensor(range(10)))).data.numpy()))\n",
    "#\n",
    "fig = plt.figure(figsize=(5, 5),facecolor='white')\n",
    "ax = fig.add_subplot(111)\n",
    "plt.title('Entity and relation',fontsize=16)\n",
    "#\n",
    "x,y=posR[0]\n",
    "plt.plot(0,0,'ro')\n",
    "plt.plot(x,y,'rx')\n",
    "plt.plot([0,x],[0,y],'r-')\n",
    "#\n",
    "for i in range(9):\n",
    "    x,y=posE[i]\n",
    "    x_new,y_new=posE[i]+posR[0]\n",
    "    plt.text(x,y,i,size=14,color='green')\n",
    "    plt.text(x_new,y_new,i+1,size=14,color='gray')\n",
    "    plt.plot([x,x_new],[y,y_new],color='gray')\n",
    "    \n",
    "x,y=posE[9]\n",
    "plt.text(x,y,9,size=14,color='green')\n",
    "#\n",
    "l=6\n",
    "plt.xlim(-l,l)\n",
    "plt.ylim(-l,l)\n",
    "#\n",
    "#\n",
    "plt.tight_layout()\n",
    "plt.show()"
   ]
  },
  {
   "cell_type": "code",
   "execution_count": 38,
   "metadata": {
    "ExecuteTime": {
     "end_time": "2019-07-06T03:46:28.494037Z",
     "start_time": "2019-07-06T03:46:28.491065Z"
    }
   },
   "outputs": [],
   "source": [
    "weighted_choices = [('Red', 3), ('Blue', 2), ('Yellow', 1), ('Green', 4)]"
   ]
  },
  {
   "cell_type": "code",
   "execution_count": null,
   "metadata": {},
   "outputs": [],
   "source": []
  }
 ],
 "metadata": {
  "kernelspec": {
   "display_name": "Python [conda env:anaconda]",
   "language": "python",
   "name": "conda-env-anaconda-py"
  },
  "language_info": {
   "codemirror_mode": {
    "name": "ipython",
    "version": 3
   },
   "file_extension": ".py",
   "mimetype": "text/x-python",
   "name": "python",
   "nbconvert_exporter": "python",
   "pygments_lexer": "ipython3",
   "version": "3.5.4"
  },
  "latex_envs": {
   "LaTeX_envs_menu_present": true,
   "autoclose": false,
   "autocomplete": true,
   "bibliofile": "biblio.bib",
   "cite_by": "apalike",
   "current_citInitial": 1,
   "eqLabelWithNumbers": true,
   "eqNumInitial": 1,
   "hotkeys": {
    "equation": "Ctrl-E",
    "itemize": "Ctrl-I"
   },
   "labels_anchors": false,
   "latex_user_defs": false,
   "report_style_numbering": false,
   "user_envs_cfg": false
  },
  "toc": {
   "base_numbering": 1,
   "nav_menu": {},
   "number_sections": false,
   "sideBar": true,
   "skip_h1_title": false,
   "title_cell": "Table of Contents",
   "title_sidebar": "Contents",
   "toc_cell": false,
   "toc_position": {},
   "toc_section_display": true,
   "toc_window_display": false
  }
 },
 "nbformat": 4,
 "nbformat_minor": 2
}
